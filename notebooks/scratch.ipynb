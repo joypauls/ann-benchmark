{
 "cells": [
  {
   "cell_type": "code",
   "execution_count": 1,
   "metadata": {},
   "outputs": [],
   "source": [
    "import h5py\n",
    "import numpy as np\n",
    "import os\n",
    "from sklearn.metrics import recall_score, precision_score"
   ]
  },
  {
   "cell_type": "code",
   "execution_count": 18,
   "metadata": {},
   "outputs": [
    {
     "data": {
      "text/plain": [
       "'/Users/joypauls/Documents/code/ann-benchmark/notebooks'"
      ]
     },
     "execution_count": 18,
     "metadata": {},
     "output_type": "execute_result"
    }
   ],
   "source": [
    "os.getcwd()"
   ]
  },
  {
   "cell_type": "markdown",
   "metadata": {},
   "source": [
    "## Data Preprocessing"
   ]
  },
  {
   "cell_type": "code",
   "execution_count": 3,
   "metadata": {},
   "outputs": [],
   "source": [
    "fp = \"../data/raw/glove-25-angular.hdf5\"\n",
    "\n",
    "hdf5_f = h5py.File(fp, \"r\")"
   ]
  },
  {
   "cell_type": "code",
   "execution_count": 4,
   "metadata": {},
   "outputs": [
    {
     "data": {
      "text/plain": [
       "['distances', 'neighbors', 'test', 'train']"
      ]
     },
     "execution_count": 4,
     "metadata": {},
     "output_type": "execute_result"
    }
   ],
   "source": [
    "# neighbors: indices of bruteforce nearest neighbors\n",
    "# distances: corresponding distance calculated\n",
    "list(hdf5_f.keys())"
   ]
  },
  {
   "cell_type": "code",
   "execution_count": 5,
   "metadata": {},
   "outputs": [
    {
     "data": {
      "text/plain": [
       "array([1086211, 1034304,  377924,   92191,  410858,  970642,  193105,\n",
       "       1063148,  235005,  914908,  222081,  294110, 1176696,  636385,\n",
       "        732688,  863946,   60159,  497293,  268796,  564714,  499677,\n",
       "        776444, 1010809,  480893,  270436, 1023269, 1033137,  437103,\n",
       "        830688,  351115,  597512,  634096,   48696,  116432,  706535,\n",
       "        717757,  683717,   77239,  425518,  237785,  849292,  617513,\n",
       "        529704,  327532, 1077305,   41676,   93058,     988,  866384,\n",
       "         63671,  999504,  811696, 1113195,  470740,  573328,  646307,\n",
       "        698667, 1095797,  807458,  161261,  452663,   68957,  431767,\n",
       "       1087636,   25828,  120955,  142276,  690113,  459704,  737706,\n",
       "        222040,  748036,  938010, 1140328,  277557,  598329,  675024,\n",
       "       1181683,  769457,   90387,   85194,  478015,  983751,  198364,\n",
       "         55518,  785994,   63420,  126424,  955291, 1173235,  642462,\n",
       "        731220,  556767,   86643,  484210, 1038135,  686290,  542027,\n",
       "        544572,  598352], dtype=int32)"
      ]
     },
     "execution_count": 5,
     "metadata": {},
     "output_type": "execute_result"
    }
   ],
   "source": [
    "hdf5_f[\"neighbors\"][0]"
   ]
  },
  {
   "cell_type": "code",
   "execution_count": 6,
   "metadata": {},
   "outputs": [
    {
     "data": {
      "text/plain": [
       "array([0.10799219, 0.11680873, 0.11747853, 0.11783477, 0.11966442,\n",
       "       0.1202258 , 0.12072266, 0.1208173 , 0.12084355, 0.12129584,\n",
       "       0.12241662, 0.12367911, 0.12471351, 0.1277512 , 0.1294026 ,\n",
       "       0.12994795, 0.13077305, 0.13086903, 0.13136333, 0.13145825,\n",
       "       0.1319056 , 0.13223521, 0.13266069, 0.13292934, 0.13334045,\n",
       "       0.13417614, 0.13435219, 0.1351901 , 0.13561499, 0.13582616,\n",
       "       0.13602158, 0.13625419, 0.13747413, 0.13748981, 0.13826703,\n",
       "       0.13848914, 0.13872376, 0.13888876, 0.13904503, 0.13915266,\n",
       "       0.1396758 , 0.14000261, 0.14002429, 0.14023435, 0.14085509,\n",
       "       0.14179355, 0.1419863 , 0.14239423, 0.14322713, 0.14331523,\n",
       "       0.14333475, 0.14352085, 0.1436379 , 0.14369258, 0.14512287,\n",
       "       0.14553578, 0.14615332, 0.14617091, 0.14660077, 0.14666978,\n",
       "       0.14705461, 0.14728722, 0.14764105, 0.14786063, 0.14804147,\n",
       "       0.14839801, 0.148441  , 0.14868486, 0.14885351, 0.14887327,\n",
       "       0.14893608, 0.14930446, 0.14948751, 0.15008324, 0.15027957,\n",
       "       0.15132204, 0.15151311, 0.15173967, 0.15181372, 0.15186381,\n",
       "       0.15205038, 0.15244101, 0.15258913, 0.15264162, 0.15277848,\n",
       "       0.1532781 , 0.15340917, 0.15341938, 0.15380916, 0.15420702,\n",
       "       0.1543931 , 0.1544427 , 0.15446694, 0.15462083, 0.1546633 ,\n",
       "       0.15492426, 0.15500186, 0.15511827, 0.1553804 , 0.15557039],\n",
       "      dtype=float32)"
      ]
     },
     "execution_count": 6,
     "metadata": {},
     "output_type": "execute_result"
    }
   ],
   "source": [
    "hdf5_f[\"distances\"][0]"
   ]
  },
  {
   "cell_type": "code",
   "execution_count": 9,
   "metadata": {},
   "outputs": [
    {
     "data": {
      "text/plain": [
       "10000"
      ]
     },
     "execution_count": 9,
     "metadata": {},
     "output_type": "execute_result"
    }
   ],
   "source": [
    "hdf5_f[\"distances\"].len()"
   ]
  },
  {
   "cell_type": "code",
   "execution_count": 10,
   "metadata": {},
   "outputs": [
    {
     "data": {
      "text/plain": [
       "10000"
      ]
     },
     "execution_count": 10,
     "metadata": {},
     "output_type": "execute_result"
    }
   ],
   "source": [
    "hdf5_f[\"neighbors\"].len()"
   ]
  },
  {
   "cell_type": "code",
   "execution_count": 11,
   "metadata": {},
   "outputs": [
    {
     "data": {
      "text/plain": [
       "1183514"
      ]
     },
     "execution_count": 11,
     "metadata": {},
     "output_type": "execute_result"
    }
   ],
   "source": [
    "hdf5_f[\"train\"].len()"
   ]
  },
  {
   "cell_type": "code",
   "execution_count": 12,
   "metadata": {},
   "outputs": [
    {
     "data": {
      "text/plain": [
       "10000"
      ]
     },
     "execution_count": 12,
     "metadata": {},
     "output_type": "execute_result"
    }
   ],
   "source": [
    "hdf5_f[\"test\"].len()"
   ]
  },
  {
   "cell_type": "code",
   "execution_count": null,
   "metadata": {},
   "outputs": [],
   "source": []
  },
  {
   "cell_type": "code",
   "execution_count": null,
   "metadata": {},
   "outputs": [],
   "source": [
    "# argmax_a cossim(a, b) = argmax_a dot(a, b) / |a||b| = argmin_a -dot(a, b)  # noqa\n"
   ]
  },
  {
   "cell_type": "markdown",
   "metadata": {},
   "source": [
    "## Annoy"
   ]
  },
  {
   "cell_type": "code",
   "execution_count": null,
   "metadata": {},
   "outputs": [],
   "source": [
    "# Benchmarking script\n",
    "from annoy import AnnoyIndex\n",
    "import numpy as np\n",
    "\n",
    "dim = 36  # Length of item vector that will be indexed\n",
    "\n",
    "np.random.seed(1312)\n",
    "\n",
    "t = AnnoyIndex(dim, \"angular\")\n",
    "for i in range(1000):\n",
    "  v = np.random.normal(0, 1, dim)\n",
    "  t.add_item(i, v)\n",
    "\n",
    "t.build(10) # 10 trees\n",
    "t.save(\"ml100k.annoy\")\n",
    "\n",
    "# ...\n",
    "\n",
    "u = AnnoyIndex(dim, \"angular\")\n",
    "u.load(\"ml100k.annoy\") # super fast, will just mmap the file\n",
    "print(u.get_nns_by_item(0, 10)) # will find the 10 nearest neighbors"
   ]
  },
  {
   "cell_type": "code",
   "execution_count": null,
   "metadata": {},
   "outputs": [],
   "source": []
  },
  {
   "cell_type": "code",
   "execution_count": null,
   "metadata": {},
   "outputs": [],
   "source": []
  },
  {
   "cell_type": "markdown",
   "metadata": {},
   "source": [
    "## Faiss"
   ]
  },
  {
   "cell_type": "code",
   "execution_count": null,
   "metadata": {},
   "outputs": [],
   "source": []
  },
  {
   "cell_type": "code",
   "execution_count": null,
   "metadata": {},
   "outputs": [],
   "source": []
  },
  {
   "cell_type": "code",
   "execution_count": null,
   "metadata": {},
   "outputs": [],
   "source": []
  },
  {
   "cell_type": "code",
   "execution_count": null,
   "metadata": {},
   "outputs": [],
   "source": []
  }
 ],
 "metadata": {
  "interpreter": {
   "hash": "5ea87dd13fa2d1df9f0005021c94037367d166e9f96d67a28c795547209712bf"
  },
  "kernelspec": {
   "display_name": "Python 3.9.1 ('ann')",
   "language": "python",
   "name": "python3"
  },
  "language_info": {
   "codemirror_mode": {
    "name": "ipython",
    "version": 3
   },
   "file_extension": ".py",
   "mimetype": "text/x-python",
   "name": "python",
   "nbconvert_exporter": "python",
   "pygments_lexer": "ipython3",
   "version": "3.9.1"
  },
  "orig_nbformat": 4
 },
 "nbformat": 4,
 "nbformat_minor": 2
}
