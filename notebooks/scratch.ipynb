{
 "cells": [
  {
   "cell_type": "code",
   "execution_count": 51,
   "metadata": {},
   "outputs": [],
   "source": [
    "import h5py\n",
    "import numpy as np\n",
    "import pandas as pd\n",
    "import os\n",
    "from sklearn.metrics import recall_score, precision_score\n",
    "from sklearn.neighbors import KDTree, BallTree, NearestNeighbors\n",
    "from sklearn.preprocessing import normalize\n",
    "from annoy import AnnoyIndex\n",
    "import faiss\n",
    "from tqdm import tqdm\n",
    "\n",
    "import matplotlib.pyplot as plt\n",
    "\n",
    "plt.rcParams[\"figure.figsize\"] = (10, 6)\n",
    "plt.rcParams[\"figure.facecolor\"] = \"white\""
   ]
  },
  {
   "cell_type": "code",
   "execution_count": 2,
   "metadata": {},
   "outputs": [
    {
     "data": {
      "text/plain": [
       "'/Users/joypauls/Documents/code/ann-benchmark/notebooks'"
      ]
     },
     "execution_count": 2,
     "metadata": {},
     "output_type": "execute_result"
    }
   ],
   "source": [
    "os.getcwd()"
   ]
  },
  {
   "cell_type": "markdown",
   "metadata": {},
   "source": [
    "## Data Preprocessing"
   ]
  },
  {
   "cell_type": "code",
   "execution_count": 3,
   "metadata": {},
   "outputs": [],
   "source": [
    "fp = \"../data/raw/glove-25-angular.hdf5\"\n",
    "\n",
    "glove25 = h5py.File(fp, \"r\")"
   ]
  },
  {
   "cell_type": "code",
   "execution_count": 4,
   "metadata": {},
   "outputs": [
    {
     "data": {
      "text/plain": [
       "['distances', 'neighbors', 'test', 'train']"
      ]
     },
     "execution_count": 4,
     "metadata": {},
     "output_type": "execute_result"
    }
   ],
   "source": [
    "# neighbors: indices of bruteforce nearest neighbors\n",
    "# distances: corresponding distance calculated\n",
    "\n",
    "list(glove25.keys())"
   ]
  },
  {
   "cell_type": "code",
   "execution_count": 159,
   "metadata": {},
   "outputs": [
    {
     "data": {
      "text/plain": [
       "<KeysViewHDF5 ['distances', 'neighbors', 'test', 'train']>"
      ]
     },
     "execution_count": 159,
     "metadata": {},
     "output_type": "execute_result"
    }
   ],
   "source": [
    "glove25.keys()"
   ]
  },
  {
   "cell_type": "code",
   "execution_count": 161,
   "metadata": {},
   "outputs": [
    {
     "data": {
      "text/plain": [
       "True"
      ]
     },
     "execution_count": 161,
     "metadata": {},
     "output_type": "execute_result"
    }
   ],
   "source": [
    "all(x in list(glove25.keys()) for x in ['neighbors', 'test', 'train'])"
   ]
  },
  {
   "cell_type": "code",
   "execution_count": 41,
   "metadata": {},
   "outputs": [
    {
     "data": {
      "text/plain": [
       "(100,)"
      ]
     },
     "execution_count": 41,
     "metadata": {},
     "output_type": "execute_result"
    }
   ],
   "source": [
    "glove25[\"neighbors\"][0].shape"
   ]
  },
  {
   "cell_type": "code",
   "execution_count": 162,
   "metadata": {},
   "outputs": [
    {
     "data": {
      "text/plain": [
       "(10000, 100)"
      ]
     },
     "execution_count": 162,
     "metadata": {},
     "output_type": "execute_result"
    }
   ],
   "source": [
    "glove25[\"neighbors\"].shape"
   ]
  },
  {
   "cell_type": "code",
   "execution_count": 6,
   "metadata": {},
   "outputs": [
    {
     "data": {
      "text/plain": [
       "array([0.10799219, 0.11680873, 0.11747853, 0.11783477, 0.11966442,\n",
       "       0.1202258 , 0.12072266, 0.1208173 , 0.12084355, 0.12129584,\n",
       "       0.12241662, 0.12367911, 0.12471351, 0.1277512 , 0.1294026 ,\n",
       "       0.12994795, 0.13077305, 0.13086903, 0.13136333, 0.13145825,\n",
       "       0.1319056 , 0.13223521, 0.13266069, 0.13292934, 0.13334045,\n",
       "       0.13417614, 0.13435219, 0.1351901 , 0.13561499, 0.13582616,\n",
       "       0.13602158, 0.13625419, 0.13747413, 0.13748981, 0.13826703,\n",
       "       0.13848914, 0.13872376, 0.13888876, 0.13904503, 0.13915266,\n",
       "       0.1396758 , 0.14000261, 0.14002429, 0.14023435, 0.14085509,\n",
       "       0.14179355, 0.1419863 , 0.14239423, 0.14322713, 0.14331523,\n",
       "       0.14333475, 0.14352085, 0.1436379 , 0.14369258, 0.14512287,\n",
       "       0.14553578, 0.14615332, 0.14617091, 0.14660077, 0.14666978,\n",
       "       0.14705461, 0.14728722, 0.14764105, 0.14786063, 0.14804147,\n",
       "       0.14839801, 0.148441  , 0.14868486, 0.14885351, 0.14887327,\n",
       "       0.14893608, 0.14930446, 0.14948751, 0.15008324, 0.15027957,\n",
       "       0.15132204, 0.15151311, 0.15173967, 0.15181372, 0.15186381,\n",
       "       0.15205038, 0.15244101, 0.15258913, 0.15264162, 0.15277848,\n",
       "       0.1532781 , 0.15340917, 0.15341938, 0.15380916, 0.15420702,\n",
       "       0.1543931 , 0.1544427 , 0.15446694, 0.15462083, 0.1546633 ,\n",
       "       0.15492426, 0.15500186, 0.15511827, 0.1553804 , 0.15557039],\n",
       "      dtype=float32)"
      ]
     },
     "execution_count": 6,
     "metadata": {},
     "output_type": "execute_result"
    }
   ],
   "source": [
    "glove25[\"distances\"][0]"
   ]
  },
  {
   "cell_type": "code",
   "execution_count": 7,
   "metadata": {},
   "outputs": [
    {
     "data": {
      "text/plain": [
       "array([-0.28572 ,  1.603   , -0.23369 ,  0.42476 ,  0.071835, -1.6633  ,\n",
       "       -0.67747 , -0.20066 ,  0.72559 , -0.7226  ,  0.096683,  1.0443  ,\n",
       "        1.1964  , -0.27354 ,  1.4416  ,  0.065021,  0.93454 , -0.40575 ,\n",
       "        0.9227  , -0.29601 , -0.51803 ,  0.85121 , -1.0339  ,  0.050656,\n",
       "        0.13964 ], dtype=float32)"
      ]
     },
     "execution_count": 7,
     "metadata": {},
     "output_type": "execute_result"
    }
   ],
   "source": [
    "glove25[\"train\"][0]"
   ]
  },
  {
   "cell_type": "code",
   "execution_count": 8,
   "metadata": {},
   "outputs": [
    {
     "data": {
      "text/plain": [
       "10000"
      ]
     },
     "execution_count": 8,
     "metadata": {},
     "output_type": "execute_result"
    }
   ],
   "source": [
    "glove25[\"distances\"].len()"
   ]
  },
  {
   "cell_type": "code",
   "execution_count": 9,
   "metadata": {},
   "outputs": [
    {
     "data": {
      "text/plain": [
       "10000"
      ]
     },
     "execution_count": 9,
     "metadata": {},
     "output_type": "execute_result"
    }
   ],
   "source": [
    "glove25[\"neighbors\"].len()"
   ]
  },
  {
   "cell_type": "code",
   "execution_count": 10,
   "metadata": {},
   "outputs": [
    {
     "data": {
      "text/plain": [
       "1183514"
      ]
     },
     "execution_count": 10,
     "metadata": {},
     "output_type": "execute_result"
    }
   ],
   "source": [
    "glove25[\"train\"].len()"
   ]
  },
  {
   "cell_type": "code",
   "execution_count": 11,
   "metadata": {},
   "outputs": [
    {
     "data": {
      "text/plain": [
       "10000"
      ]
     },
     "execution_count": 11,
     "metadata": {},
     "output_type": "execute_result"
    }
   ],
   "source": [
    "glove25[\"test\"].len()"
   ]
  },
  {
   "cell_type": "code",
   "execution_count": 12,
   "metadata": {},
   "outputs": [
    {
     "data": {
      "text/plain": [
       "array([[-0.28572 ,  1.603   , -0.23369 ,  0.42476 ,  0.071835, -1.6633  ,\n",
       "        -0.67747 , -0.20066 ,  0.72559 , -0.7226  ,  0.096683,  1.0443  ,\n",
       "         1.1964  , -0.27354 ,  1.4416  ,  0.065021,  0.93454 , -0.40575 ,\n",
       "         0.9227  , -0.29601 , -0.51803 ,  0.85121 , -1.0339  ,  0.050656,\n",
       "         0.13964 ]], dtype=float32)"
      ]
     },
     "execution_count": 12,
     "metadata": {},
     "output_type": "execute_result"
    }
   ],
   "source": [
    "glove25[\"train\"][0:1]"
   ]
  },
  {
   "cell_type": "code",
   "execution_count": 158,
   "metadata": {},
   "outputs": [
    {
     "data": {
      "text/plain": [
       "1"
      ]
     },
     "execution_count": 158,
     "metadata": {},
     "output_type": "execute_result"
    }
   ],
   "source": [
    "len(glove25[\"train\"][0].shape)"
   ]
  },
  {
   "cell_type": "markdown",
   "metadata": {},
   "source": [
    "### Modified Datasets"
   ]
  },
  {
   "cell_type": "code",
   "execution_count": 53,
   "metadata": {},
   "outputs": [
    {
     "name": "stdout",
     "output_type": "stream",
     "text": [
      "(1183514, 25)\n",
      "(10000, 25)\n"
     ]
    }
   ],
   "source": [
    "glove25_train_np = np.zeros(glove25[\"train\"].shape, dtype=\"float32\")\n",
    "glove25[\"train\"].read_direct(glove25_train_np)\n",
    "\n",
    "glove25_test_np = np.zeros(glove25[\"test\"].shape, dtype=\"float32\")\n",
    "glove25[\"test\"].read_direct(glove25_test_np)\n",
    "\n",
    "print(glove25_train_np.shape)\n",
    "print(glove25_test_np.shape)\n",
    "\n",
    "# normalized datasetsfor methods?\n",
    "glove25_train_np_norm = normalize(glove25_train_np, axis=1, norm=\"l2\")\n",
    "glove25_test_np_norm = normalize(glove25_test_np, axis=1, norm=\"l2\")"
   ]
  },
  {
   "cell_type": "markdown",
   "metadata": {},
   "source": [
    "### Get Ground Truth Neighbors via Brute Force\n",
    "\n",
    "Should probably make a class to represent the data and persist on disk"
   ]
  },
  {
   "cell_type": "code",
   "execution_count": 54,
   "metadata": {},
   "outputs": [
    {
     "data": {
      "text/plain": [
       "NearestNeighbors(algorithm='brute', metric='cosine')"
      ]
     },
     "execution_count": 54,
     "metadata": {},
     "output_type": "execute_result"
    }
   ],
   "source": [
    "bf_index = NearestNeighbors(algorithm=\"brute\", metric=\"cosine\")\n",
    "bf_index.fit(glove25_train_np)\n"
   ]
  },
  {
   "cell_type": "code",
   "execution_count": 61,
   "metadata": {},
   "outputs": [
    {
     "data": {
      "text/plain": [
       "array([      0,  978088,  872508,  343384,  358369, 1092200,  675886,\n",
       "        379223,  355593,  406832])"
      ]
     },
     "execution_count": 61,
     "metadata": {},
     "output_type": "execute_result"
    }
   ],
   "source": [
    "bf_index.kneighbors(glove25_train_np[0:1], return_distance=False, n_neighbors=10)[0]"
   ]
  },
  {
   "cell_type": "code",
   "execution_count": 99,
   "metadata": {},
   "outputs": [
    {
     "data": {
      "text/plain": [
       "array([[      0,  978088,  872508,  343384,  358369, 1092200,  675886,\n",
       "         379223,  355593,  406832],\n",
       "       [      0,       0,       0,       0,       0,       0,       0,\n",
       "              0,       0,       0]], dtype=int32)"
      ]
     },
     "execution_count": 99,
     "metadata": {},
     "output_type": "execute_result"
    }
   ],
   "source": [
    "# test that I'm not a silly goose\n",
    "glove25_neighbors = np.zeros((2,10), dtype=np.int32)\n",
    "glove25_neighbors[0] = np.array(bf_index.kneighbors(glove25_train_np[0:1], return_distance=False, n_neighbors=10)[0], dtype=np.int32)\n",
    "glove25_neighbors"
   ]
  },
  {
   "cell_type": "code",
   "execution_count": 106,
   "metadata": {},
   "outputs": [
    {
     "name": "stderr",
     "output_type": "stream",
     "text": [
      "10000it [12:47, 13.03it/s]\n"
     ]
    }
   ],
   "source": [
    "# I want a new data set with a mxk matrix of exhaustive search nearest neighbors results for test set\n",
    "# mirroring what the hdf5 file has\n",
    "# m = # of test query vectors\n",
    "# k = # of neighbors retrieved\n",
    "K_NEIGHBORS = 300\n",
    "glove25_test_neighbors = np.zeros((glove25_test_np.shape[0], K_NEIGHBORS), dtype=int)\n",
    "for i, x in tqdm(enumerate(glove25_test_np)):\n",
    "  glove25_test_neighbors[i] = bf_index.kneighbors(glove25_test_np[i:i+1], return_distance=False, n_neighbors=K_NEIGHBORS)[0]"
   ]
  },
  {
   "cell_type": "code",
   "execution_count": 107,
   "metadata": {},
   "outputs": [
    {
     "data": {
      "text/plain": [
       "(10000, 300)"
      ]
     },
     "execution_count": 107,
     "metadata": {},
     "output_type": "execute_result"
    }
   ],
   "source": [
    "glove25_test_neighbors.shape"
   ]
  },
  {
   "cell_type": "code",
   "execution_count": 108,
   "metadata": {},
   "outputs": [
    {
     "data": {
      "text/plain": [
       "array([ 357422,  348911,  365072,  123831,  691858,  142020, 1131847,\n",
       "        329429,  954895,  492855])"
      ]
     },
     "execution_count": 108,
     "metadata": {},
     "output_type": "execute_result"
    }
   ],
   "source": [
    "glove25_test_neighbors[3, 0:10]"
   ]
  },
  {
   "cell_type": "code",
   "execution_count": 109,
   "metadata": {},
   "outputs": [],
   "source": [
    "np.save(\"../data/glove_25_neighbors_300.npy\", glove25_test_neighbors)"
   ]
  },
  {
   "cell_type": "code",
   "execution_count": 110,
   "metadata": {},
   "outputs": [],
   "source": [
    "glove25_test_neighbors = glove25_test_neighbors.astype(np.int32)"
   ]
  },
  {
   "cell_type": "code",
   "execution_count": 111,
   "metadata": {},
   "outputs": [
    {
     "data": {
      "text/plain": [
       "array([[1086211, 1034304,  377924,   92191,  410858,  970642,  193105,\n",
       "        1063148,  235005,  914908,  222081,  294110, 1176696,  636385,\n",
       "         732688,  863946,   60159,  497293,  268796,  564714,  499677,\n",
       "         776444, 1010809,  480893,  270436, 1023269, 1033137,  437103,\n",
       "         830688,  351115,  597512,  634096,   48696,  116432,  706535,\n",
       "         717757,  683717,   77239,  425518,  237785,  849292,  617513,\n",
       "         529704,  327532, 1077305,   41676,   93058,     988,  866384,\n",
       "          63671,  999504,  811696, 1113195,  470740,  573328,  646307,\n",
       "         698667, 1095797,  807458,  161261,  452663,   68957,  431767,\n",
       "        1087636,   25828,  120955,  142276,  690113,  459704,  737706,\n",
       "         222040,  748036,  938010, 1140328,  277557,  598329,  675024,\n",
       "        1181683,  769457,   90387,   85194,  478015,  983751,  198364,\n",
       "          55518,  785994,   63420,  126424,  955291, 1173235,  642462,\n",
       "         731220,  556767,   86643,  484210, 1038135,  686290,  542027,\n",
       "         544572,  598352,  879650,  242687,  729366,  161775,  458629,\n",
       "        1051531,  653064,  722413, 1103993,  283895, 1041400,  121364,\n",
       "         761652,  197752,   44244,   70509,  178369,  781840,  496711,\n",
       "         378250,  324568, 1060012,   62939,  849009,  171476, 1119178,\n",
       "        1181314, 1168523, 1101921,  280262, 1098407, 1078601, 1037109,\n",
       "        1110193, 1026789,  835466,  870433,  705804, 1182920,  290452,\n",
       "         477589,  453779,  997113,  566337,  117027,  313329,  761632,\n",
       "          15488, 1047791,  801814,  675528,  962372,  747096,  525299,\n",
       "           1173,  602072,  235689,  511904,  316821,  237968,  688804,\n",
       "         817757,  614850,  128183,  869726,  848808, 1020649,  190299,\n",
       "         367187,  870899,  906022,  349012,  505964,  863318,  810240,\n",
       "         237935,  666352, 1067368,  390307,   65385,  234913,  456552,\n",
       "         957793,   54900,  838460, 1019030,  395961, 1004519,  933313,\n",
       "         586803,  474748,  216493,  170357, 1073947,  807849,  708288,\n",
       "         780606,   91780, 1047439,  562050,  648505, 1037105,  593043,\n",
       "         792240, 1164677, 1106207,  309728, 1167480,  861446,  835256,\n",
       "         262148,  235207,  615918,  356443,  692474,  347470,   21236,\n",
       "         938754,  796417,  542715,  598102,  757972, 1175204,  423203,\n",
       "         963824,  920585, 1143043,  112158,  732788,  200152,  269015,\n",
       "         819792,  332739, 1166954,  845105,  148486,  103008,  429677,\n",
       "         354399,  583670,  552159,  834699,  317256,  672956,  483705,\n",
       "         291665,  983601,  691462,  349560,  493719,  248925, 1112384,\n",
       "         415423,  675349,  403242,  697850,   54831,  553051,  916342,\n",
       "          82403,  242797,  117582,  624610,  831900,  177673,  464678,\n",
       "         911798,    6083,  750278,  189913,  676764,  573375,  128873,\n",
       "          70212,  443169, 1164151,  393914,  829417,  729950, 1037662,\n",
       "         105473,  645755,  400954,  440234,  806816,  299713, 1179157,\n",
       "         295895,  640074,  548933,  104731,  126008,  723203,  198986,\n",
       "         463099,  716319,  908609, 1074948,  797936,  221943]],\n",
       "      dtype=int32)"
      ]
     },
     "execution_count": 111,
     "metadata": {},
     "output_type": "execute_result"
    }
   ],
   "source": [
    "glove25_test_neighbors[0:1]"
   ]
  },
  {
   "cell_type": "code",
   "execution_count": 112,
   "metadata": {},
   "outputs": [],
   "source": [
    "np.save(\"../data/glove_25_neighbors_300.npy\", glove25_test_neighbors)"
   ]
  },
  {
   "cell_type": "markdown",
   "metadata": {},
   "source": [
    "## Test Candidate Methods"
   ]
  },
  {
   "cell_type": "code",
   "execution_count": 119,
   "metadata": {},
   "outputs": [],
   "source": [
    "EMBEDDING_DIM = len(glove25[\"train\"][0])\n",
    "NUM_TREES = 20  # for annoy\n",
    "N_LIST = 20  # how many cells for faiss"
   ]
  },
  {
   "cell_type": "markdown",
   "metadata": {},
   "source": [
    "### Annoy"
   ]
  },
  {
   "cell_type": "code",
   "execution_count": 120,
   "metadata": {},
   "outputs": [
    {
     "name": "stdout",
     "output_type": "stream",
     "text": [
      "[0, 978088, 872508, 343384, 358369, 1092200, 675886, 379223, 355593, 406832]\n"
     ]
    }
   ],
   "source": [
    "# np.random.seed(1312)\n",
    "\n",
    "# angular distance turns cosine similarity into an actual distance metric\n",
    "\n",
    "# annoy uses euclidean distance of nromalized vectors under the hood for angular!!!!\n",
    "\n",
    "# EMBEDDING_DIM = len(glove25[\"train\"][0])\n",
    "# NUM_TREES = 20\n",
    "\n",
    "t = AnnoyIndex(EMBEDDING_DIM, \"angular\")\n",
    "for i, v in enumerate(glove25[\"train\"]):\n",
    "  t.add_item(i, v)\n",
    "\n",
    "t.build(NUM_TREES) # 10 trees\n",
    "t.save(\"../models/glove25.annoy\")\n",
    "\n",
    "# Now Load\n",
    "\n",
    "u = AnnoyIndex(EMBEDDING_DIM, \"angular\")\n",
    "u.load(\"../models/glove25.annoy\") # super fast, will just mmap the file\n",
    "print(u.get_nns_by_item(0, 10)) # will find the 10 nearest neighbors"
   ]
  },
  {
   "cell_type": "code",
   "execution_count": 121,
   "metadata": {},
   "outputs": [
    {
     "name": "stdout",
     "output_type": "stream",
     "text": [
      "[0, 978088, 872508, 343384, 358369, 1092200, 675886, 379223, 355593, 406832]\n",
      "[0, 978088, 872508, 343384, 358369, 1092200, 675886, 379223, 355593, 406832]\n",
      "[0, 978088, 872508, 343384, 358369, 1092200, 675886, 379223, 355593, 406832]\n"
     ]
    }
   ],
   "source": [
    "annoy_index = AnnoyIndex(EMBEDDING_DIM, \"angular\")\n",
    "annoy_index.load(\"../models/glove25.annoy\") # super fast, will just mmap the file\n",
    "\n",
    "print(annoy_index.get_nns_by_item(0, 10)) # will find the 10 nearest neighbors\n",
    "\n",
    "# returns list!!!\n",
    "print(annoy_index.get_nns_by_vector(glove25[\"train\"][0], 10))\n",
    "\n",
    "print(annoy_index.get_nns_by_vector(glove25[\"train\"][0], 10))"
   ]
  },
  {
   "cell_type": "code",
   "execution_count": 96,
   "metadata": {},
   "outputs": [
    {
     "data": {
      "text/plain": [
       "array([-0.28572 ,  1.603   , -0.23369 ,  0.42476 ,  0.071835, -1.6633  ,\n",
       "       -0.67747 , -0.20066 ,  0.72559 , -0.7226  ,  0.096683,  1.0443  ,\n",
       "        1.1964  , -0.27354 ,  1.4416  ,  0.065021,  0.93454 , -0.40575 ,\n",
       "        0.9227  , -0.29601 , -0.51803 ,  0.85121 , -1.0339  ,  0.050656,\n",
       "        0.13964 ], dtype=float32)"
      ]
     },
     "execution_count": 96,
     "metadata": {},
     "output_type": "execute_result"
    }
   ],
   "source": [
    "glove25[\"train\"][0]"
   ]
  },
  {
   "cell_type": "markdown",
   "metadata": {},
   "source": [
    "### Faiss"
   ]
  },
  {
   "cell_type": "code",
   "execution_count": 17,
   "metadata": {},
   "outputs": [
    {
     "data": {
      "text/plain": [
       "array([[-0.28572 ,  1.603   , -0.23369 ,  0.42476 ,  0.071835, -1.6633  ,\n",
       "        -0.67747 , -0.20066 ,  0.72559 , -0.7226  ,  0.096683,  1.0443  ,\n",
       "         1.1964  , -0.27354 ,  1.4416  ,  0.065021,  0.93454 , -0.40575 ,\n",
       "         0.9227  , -0.29601 , -0.51803 ,  0.85121 , -1.0339  ,  0.050656,\n",
       "         0.13964 ],\n",
       "       [-2.3121  , -1.0691  ,  0.3303  , -0.84926 , -0.45098 , -1.1103  ,\n",
       "        -2.7918  , -0.34089 ,  1.4889  ,  0.060553, -1.1956  , -0.34866 ,\n",
       "         0.24117 ,  1.7703  , -1.2501  , -0.52119 ,  0.076553, -1.1669  ,\n",
       "         0.34683 ,  1.5578  ,  0.083097, -2.923   ,  1.978   , -0.34806 ,\n",
       "         0.82449 ],\n",
       "       [-0.6794  , -1.4217  ,  1.8045  ,  1.0094  , -1.1946  , -0.81375 ,\n",
       "         1.8712  , -1.7412  , -0.75792 ,  0.9747  , -0.62117 , -0.8313  ,\n",
       "         1.9836  ,  0.77844 ,  0.66287 ,  1.7849  ,  0.25166 ,  0.83952 ,\n",
       "         0.34842 ,  1.0675  ,  0.178   ,  0.56765 ,  1.0594  , -1.5747  ,\n",
       "         0.37254 ]], dtype=float32)"
      ]
     },
     "execution_count": 17,
     "metadata": {},
     "output_type": "execute_result"
    }
   ],
   "source": [
    "np.array(glove25[\"train\"][0:3])"
   ]
  },
  {
   "cell_type": "code",
   "execution_count": 18,
   "metadata": {},
   "outputs": [
    {
     "data": {
      "text/plain": [
       "array([[-0.28572 ,  1.603   , -0.23369 ,  0.42476 ,  0.071835, -1.6633  ,\n",
       "        -0.67747 , -0.20066 ,  0.72559 , -0.7226  ,  0.096683,  1.0443  ,\n",
       "         1.1964  , -0.27354 ,  1.4416  ,  0.065021,  0.93454 , -0.40575 ,\n",
       "         0.9227  , -0.29601 , -0.51803 ,  0.85121 , -1.0339  ,  0.050656,\n",
       "         0.13964 ],\n",
       "       [-2.3121  , -1.0691  ,  0.3303  , -0.84926 , -0.45098 , -1.1103  ,\n",
       "        -2.7918  , -0.34089 ,  1.4889  ,  0.060553, -1.1956  , -0.34866 ,\n",
       "         0.24117 ,  1.7703  , -1.2501  , -0.52119 ,  0.076553, -1.1669  ,\n",
       "         0.34683 ,  1.5578  ,  0.083097, -2.923   ,  1.978   , -0.34806 ,\n",
       "         0.82449 ],\n",
       "       [-0.6794  , -1.4217  ,  1.8045  ,  1.0094  , -1.1946  , -0.81375 ,\n",
       "         1.8712  , -1.7412  , -0.75792 ,  0.9747  , -0.62117 , -0.8313  ,\n",
       "         1.9836  ,  0.77844 ,  0.66287 ,  1.7849  ,  0.25166 ,  0.83952 ,\n",
       "         0.34842 ,  1.0675  ,  0.178   ,  0.56765 ,  1.0594  , -1.5747  ,\n",
       "         0.37254 ]], dtype=float32)"
      ]
     },
     "execution_count": 18,
     "metadata": {},
     "output_type": "execute_result"
    }
   ],
   "source": [
    "glove25[\"train\"][0:3]"
   ]
  },
  {
   "cell_type": "code",
   "execution_count": 19,
   "metadata": {},
   "outputs": [
    {
     "name": "stdout",
     "output_type": "stream",
     "text": [
      "(1183514, 25)\n",
      "(10000, 25)\n"
     ]
    }
   ],
   "source": [
    "glove25_train_np = np.zeros(glove25[\"train\"].shape, dtype=\"float32\")\n",
    "glove25[\"train\"].read_direct(glove25_train_np)\n",
    "\n",
    "glove25_test_np = np.zeros(glove25[\"test\"].shape, dtype=\"float32\")\n",
    "glove25[\"test\"].read_direct(glove25_test_np)\n",
    "\n",
    "print(glove25_train_np.shape)\n",
    "print(glove25_test_np.shape)"
   ]
  },
  {
   "cell_type": "code",
   "execution_count": 20,
   "metadata": {},
   "outputs": [
    {
     "data": {
      "text/plain": [
       "(1, 25)"
      ]
     },
     "execution_count": 20,
     "metadata": {},
     "output_type": "execute_result"
    }
   ],
   "source": [
    "glove25_train_np[0:1].shape"
   ]
  },
  {
   "cell_type": "code",
   "execution_count": 21,
   "metadata": {},
   "outputs": [
    {
     "name": "stdout",
     "output_type": "stream",
     "text": [
      "True\n",
      "1183514\n"
     ]
    }
   ],
   "source": [
    "# # EXHAUSTIVE SEARCH\n",
    "# # https://github.com/facebookresearch/faiss/wiki/MetricType-and-distances\n",
    "# faiss_index = faiss.IndexFlatL2(EMBEDDING_DIM)   # build the index\n",
    "# print(faiss_index.is_trained)\n",
    "# faiss_index.add(glove25_train_np)                  # add vectors to the index\n",
    "# print(faiss_index.ntotal)"
   ]
  },
  {
   "cell_type": "code",
   "execution_count": 136,
   "metadata": {},
   "outputs": [],
   "source": [
    "# # predict\n",
    "# distances, neighbors = faiss_index.search(glove25_train_np[0:1], 10)\n",
    "# (distances, neighbors)"
   ]
  },
  {
   "cell_type": "code",
   "execution_count": 151,
   "metadata": {},
   "outputs": [
    {
     "name": "stdout",
     "output_type": "stream",
     "text": [
      "False\n",
      "0\n",
      "True\n",
      "0\n",
      "True\n",
      "1183514\n"
     ]
    }
   ],
   "source": [
    "# angular distance\n",
    "quantizer = faiss.IndexFlatL2(EMBEDDING_DIM)\n",
    "faiss_index = faiss.IndexIVFFlat(quantizer, EMBEDDING_DIM, N_LIST, faiss.METRIC_L2)\n",
    "\n",
    "print(faiss_index.is_trained)\n",
    "print(faiss_index.ntotal)\n",
    "\n",
    "faiss_index.train(glove25_train_np_norm)\n",
    "print(faiss_index.is_trained)\n",
    "print(faiss_index.ntotal)\n",
    "faiss_index.add(glove25_train_np_norm)\n",
    "print(faiss_index.is_trained)\n",
    "print(faiss_index.ntotal)\n",
    "\n",
    "faiss.write_index(faiss_index, \"../models/glove25.faiss\")\n",
    "faiss_index = faiss.read_index(\"../models/glove25.faiss\")"
   ]
  },
  {
   "cell_type": "code",
   "execution_count": 134,
   "metadata": {},
   "outputs": [
    {
     "data": {
      "text/plain": [
       "(array([[9.133119 , 9.167982 , 9.183929 , 9.185324 , 9.185784 , 9.1865015,\n",
       "         9.193968 , 9.205625 , 9.212913 , 9.2160635]], dtype=float32),\n",
       " array([[ 978088,  872508,  343384,  358369, 1092200,  675886,  379223,\n",
       "          355593,  406832,  870548]]))"
      ]
     },
     "execution_count": 134,
     "metadata": {},
     "output_type": "execute_result"
    }
   ],
   "source": [
    "# predict\n",
    "distances, neighbors = faiss_index.search(glove25_train_np[0:1], 10)\n",
    "(distances, neighbors)"
   ]
  },
  {
   "cell_type": "code",
   "execution_count": 135,
   "metadata": {},
   "outputs": [
    {
     "data": {
      "text/plain": [
       "(array([[ 9.133119 ,  9.167982 ,  9.183929 ,  9.185324 ,  9.185784 ,\n",
       "          9.1865015,  9.193968 ,  9.205625 ,  9.212913 ,  9.2160635],\n",
       "        [33.769363 , 34.102848 , 34.110245 , 34.18454  , 34.33471  ,\n",
       "         34.54875  , 34.57728  , 34.651283 , 34.658375 , 34.735546 ],\n",
       "        [23.95903  , 24.15606  , 24.423706 , 24.44447  , 24.468061 ,\n",
       "         24.477802 , 24.486761 , 24.492498 , 24.599148 , 24.608084 ],\n",
       "        [26.433937 , 28.3045   , 28.359367 , 28.369581 , 28.60218  ,\n",
       "         28.704319 , 28.779465 , 28.79194  , 28.816841 , 28.864971 ],\n",
       "        [11.790197 , 12.815996 , 12.941013 , 13.080925 , 13.139196 ,\n",
       "         13.143217 , 13.157397 , 13.169992 , 13.179855 , 13.181332 ],\n",
       "        [10.136249 , 10.6135845, 10.691089 , 10.814522 , 10.8348   ,\n",
       "         10.855013 , 10.906075 , 10.907627 , 10.911652 , 10.943611 ],\n",
       "        [10.792688 , 11.415736 , 11.418269 , 11.526991 , 11.584129 ,\n",
       "         11.629994 , 11.655474 , 11.673021 , 11.690297 , 11.691347 ],\n",
       "        [28.464218 , 28.7611   , 29.093342 , 29.136488 , 29.137856 ,\n",
       "         29.138876 , 29.153101 , 29.174885 , 29.22451  , 29.306904 ],\n",
       "        [ 5.64678  ,  6.5648203,  6.655355 ,  6.6669035,  6.6751986,\n",
       "          6.7062   ,  6.7178087,  6.7395263,  6.7398252,  6.7956758],\n",
       "        [15.163356 , 16.864006 , 16.943645 , 17.124743 , 17.1284   ,\n",
       "         17.13388  , 17.14019  , 17.30101  , 17.315887 , 17.34228  ]],\n",
       "       dtype=float32),\n",
       " array([[ 978088,  872508,  343384,  358369, 1092200,  675886,  379223,\n",
       "          355593,  406832,  870548],\n",
       "        [ 201123,  775981,  650666, 1058965,  881677,  831254,  913301,\n",
       "          849178,  718792,  211716],\n",
       "        [ 848047,  732392,  417366,  931919,   79526,  521344,  341349,\n",
       "          688621,  731935,  285884],\n",
       "        [      3,  942420,  623856,  412102,  451892, 1155561,  339615,\n",
       "          783254,  341940, 1090187],\n",
       "        [      4,  568673,  433870,    3541,  729161,  998099, 1104539,\n",
       "          751810,  387903,  981783],\n",
       "        [      5,  663934, 1041006,  551004,  477269,  504929,  814980,\n",
       "          496761, 1047845,   44959],\n",
       "        [      6,  479894,  814486,  645047,   99144,  571381,   85924,\n",
       "          714871,    1945,  258007],\n",
       "        [1039269,  394996,  216021,  996007,  314059,  614321,  685254,\n",
       "         1010354,  740254, 1024883],\n",
       "        [      8, 1081470,  550870,  468493,  873901,  468067, 1097977,\n",
       "          405869,   37714,  365361],\n",
       "        [      9,  243529,  203165,  126037, 1004802,  287425,  500216,\n",
       "          890255,  504204, 1152267]]))"
      ]
     },
     "execution_count": 135,
     "metadata": {},
     "output_type": "execute_result"
    }
   ],
   "source": [
    "distances, neighbors = faiss_index.search(glove25_train_np[0:10], 10)\n",
    "(distances, neighbors)"
   ]
  },
  {
   "cell_type": "code",
   "execution_count": null,
   "metadata": {},
   "outputs": [],
   "source": []
  },
  {
   "cell_type": "markdown",
   "metadata": {},
   "source": [
    "## Evaluate"
   ]
  },
  {
   "cell_type": "code",
   "execution_count": 138,
   "metadata": {},
   "outputs": [
    {
     "data": {
      "text/plain": [
       "0.76"
      ]
     },
     "execution_count": 138,
     "metadata": {},
     "output_type": "execute_result"
    }
   ],
   "source": [
    "def average_recall(ground_truth, estimated, k=5):\n",
    "    \"\"\"Fetches rows from a Smalltable.\n",
    "\n",
    "    Retrieves rows pertaining to the given keys from the Table instance\n",
    "    represented by table_handle.  String keys will be UTF-8 encoded.\n",
    "\n",
    "    Args:\n",
    "        ground_truth: An open smalltable.Table instance.\n",
    "        estimated: A sequence of strings representing the key of each table\n",
    "          row to fetch.  String keys will be UTF-8 encoded.\n",
    "        k: If True only rows with values set for all keys will be\n",
    "          returned.\n",
    "\n",
    "    Returns:\n",
    "        A score\n",
    "    \"\"\"\n",
    "    if len(estimated) > k:\n",
    "        estimated = estimated[:k]\n",
    "\n",
    "    if ground_truth is None:\n",
    "        return 0.0\n",
    "\n",
    "    score = 0.0\n",
    "    num_hits = 0.0  # keep as float to avoid type issue in division\n",
    "    for i, p in enumerate(estimated):\n",
    "        if p in ground_truth and p not in estimated[:i]:\n",
    "            num_hits += 1.0\n",
    "            score += num_hits / (i + 1.0)\n",
    "\n",
    "    return score / min(len(ground_truth), k)\n",
    "\n",
    "average_recall([1, 2, 3, 4, 5], [5, 4, 3, 0, 1])"
   ]
  },
  {
   "cell_type": "code",
   "execution_count": 139,
   "metadata": {},
   "outputs": [
    {
     "name": "stdout",
     "output_type": "stream",
     "text": [
      "CPU times: user 7.99 s, sys: 286 ms, total: 8.28 s\n",
      "Wall time: 9.88 s\n"
     ]
    }
   ],
   "source": [
    "%%time\n",
    "\n",
    "# single depth loop\n",
    "k = 100\n",
    "\n",
    "# annoy can't batch\n",
    "# annoy\n",
    "annoy_recall = np.zeros((glove25_test_np.shape[0],), dtype=np.float32)\n",
    "for i, x in enumerate(glove25_test_np):\n",
    "  # TODO: convert when generating\n",
    "  truth = glove25[\"neighbors\"][i, 0:k]\n",
    "  estimated = annoy_index.get_nns_by_vector(x, k)\n",
    "  annoy_recall[i] = average_recall(truth, estimated, k)"
   ]
  },
  {
   "cell_type": "code",
   "execution_count": 152,
   "metadata": {},
   "outputs": [
    {
     "name": "stdout",
     "output_type": "stream",
     "text": [
      "CPU times: user 14 s, sys: 293 ms, total: 14.3 s\n",
      "Wall time: 6.93 s\n"
     ]
    }
   ],
   "source": [
    "%%time\n",
    "# faiss can batch!\n",
    "# must use normalized\n",
    "_, faiss_estimated = faiss_index.search(glove25_test_np_norm, k)\n",
    "# faiss\n",
    "faiss_recall = np.zeros((glove25_test_np.shape[0],), dtype=np.float32)\n",
    "for i, x in enumerate(faiss_estimated):\n",
    "  truth = glove25_test_neighbors[i, 0:k]\n",
    "  faiss_recall[i] = average_recall(truth, x, k)"
   ]
  },
  {
   "cell_type": "code",
   "execution_count": 141,
   "metadata": {},
   "outputs": [
    {
     "data": {
      "text/plain": [
       "array([0.65, 0.6 , 0.78, ..., 0.8 , 0.46, 0.85], dtype=float32)"
      ]
     },
     "execution_count": 141,
     "metadata": {},
     "output_type": "execute_result"
    }
   ],
   "source": [
    "annoy_recall"
   ]
  },
  {
   "cell_type": "code",
   "execution_count": 142,
   "metadata": {},
   "outputs": [
    {
     "data": {
      "text/plain": [
       "array([0.96, 0.99, 1.  , ..., 1.  , 0.65, 0.98], dtype=float32)"
      ]
     },
     "execution_count": 142,
     "metadata": {},
     "output_type": "execute_result"
    }
   ],
   "source": [
    "faiss_recall"
   ]
  },
  {
   "cell_type": "code",
   "execution_count": 153,
   "metadata": {},
   "outputs": [
    {
     "data": {
      "image/png": "[encoded data removed]",
      "text/plain": [
       "<Figure size 720x432 with 1 Axes>"
      ]
     },
     "metadata": {},
     "output_type": "display_data"
    }
   ],
   "source": [
    "annoy_mean = np.mean(annoy_recall)\n",
    "annoy_plot_weights = np.ones(len(annoy_recall)) / len(annoy_recall)\n",
    "faiss_mean = np.mean(faiss_recall)\n",
    "faiss_plot_weights = np.ones(len(faiss_recall)) / len(faiss_recall)\n",
    "\n",
    "\n",
    "n1, _, _ = plt.hist(annoy_recall, weights=annoy_plot_weights, bins=20, alpha=0.5, label=\"Annoy\")\n",
    "plt.axvline(annoy_mean, color=\"#4c72b0\", alpha=0.6, ls=\"--\", label=\"Annoy MAR@100\")\n",
    "\n",
    "n2, _, _ = plt.hist(faiss_recall, weights=faiss_plot_weights, bins=20, alpha=0.5, label=\"Faiss\")\n",
    "plt.axvline(faiss_mean, color=\"#cc642a\", alpha=0.6, ls=\"--\", label=\"Faiss MAR@100\")\n",
    "\n",
    "plot_height = max(np.max(n1), np.max(n2))  # in y-axis units\n",
    "plt.text(annoy_mean + 0.01, plot_height*0.8, \"MAR = {:.2f}\".format(annoy_mean), rotation=90, verticalalignment=\"center\")\n",
    "plt.text(faiss_mean + 0.01, plot_height*0.8, \"MAR = {:.2f}\".format(faiss_mean), rotation=90, verticalalignment=\"center\")\n",
    "\n",
    "plt.legend()\n",
    "plt.title(\"Distribution of Recall@100 for Test Queries\")\n",
    "plt.xlabel(\"Average Recall @ 100\")\n",
    "plt.ylabel(\"Percent\")\n",
    "\n",
    "plt.savefig(\"output.png\")\n",
    "plt.show()"
   ]
  },
  {
   "cell_type": "code",
   "execution_count": 128,
   "metadata": {},
   "outputs": [
    {
     "name": "stderr",
     "output_type": "stream",
     "text": [
      "100%|██████████| 300/300 [00:59<00:00,  5.06it/s]"
     ]
    },
    {
     "name": "stdout",
     "output_type": "stream",
     "text": [
      "<class 'pandas.core.frame.DataFrame'>\n",
      "RangeIndex: 300 entries, 0 to 299\n",
      "Data columns (total 3 columns):\n",
      " #   Column     Non-Null Count  Dtype  \n",
      "---  ------     --------------  -----  \n",
      " 0   k          300 non-null    int64  \n",
      " 1   annoy_mar  300 non-null    float32\n",
      " 2   faiss_mar  300 non-null    float32\n",
      "dtypes: float32(2), int64(1)\n",
      "memory usage: 4.8 KB\n"
     ]
    },
    {
     "name": "stderr",
     "output_type": "stream",
     "text": [
      "\n"
     ]
    }
   ],
   "source": [
    "# stepping through depths\n",
    "annoy_mar = []\n",
    "depth = []\n",
    "k = 300\n",
    "test_size = glove25_test_np[:100].shape[0]\n",
    "\n",
    "# can precompute in a batch\n",
    "_, faiss_estimated = faiss_index.search(glove25_test_np_norm[0:100], k)\n",
    "\n",
    "annoy_results = np.zeros((test_size, k), dtype=np.float32)\n",
    "faiss_results = np.zeros((test_size, k), dtype=np.float32)\n",
    "results_summary = []\n",
    "\n",
    "# TODO: YOU SHOULD JUST GET TOP 300 at once\n",
    "for d in tqdm(range(1, k+1)):\n",
    "  # annoy_recall = []\n",
    "  # faiss_recall = []\n",
    "  for i, x in enumerate(glove25_test_np[0:100]):\n",
    "    annoy_results[i, d-1] = average_recall(\n",
    "      glove25_test_neighbors[i, :d], # row vector\n",
    "      annoy_index.get_nns_by_vector(x, n=d), \n",
    "      k=d\n",
    "    )\n",
    "    faiss_results[i, d-1] = average_recall(\n",
    "      glove25_test_neighbors[i, :d], # row vector\n",
    "      faiss_estimated[i, :d],\n",
    "      k=d\n",
    "    )\n",
    "  # summary of each iteration\n",
    "  results_summary.append({\n",
    "    \"k\": d,\n",
    "    \"annoy_mar\": np.mean(annoy_results[:,d-1]),\n",
    "    \"faiss_mar\": np.mean(faiss_results[:,d-1]),\n",
    "  })\n",
    "\n",
    "# gather\n",
    "results_summary_df = pd.DataFrame.from_records(results_summary)\n",
    "results_summary_df.info()"
   ]
  },
  {
   "cell_type": "code",
   "execution_count": 129,
   "metadata": {},
   "outputs": [
    {
     "data": {
      "text/html": [
       "<div>\n",
       "<style scoped>\n",
       "    .dataframe tbody tr th:only-of-type {\n",
       "        vertical-align: middle;\n",
       "    }\n",
       "\n",
       "    .dataframe tbody tr th {\n",
       "        vertical-align: top;\n",
       "    }\n",
       "\n",
       "    .dataframe thead th {\n",
       "        text-align: right;\n",
       "    }\n",
       "</style>\n",
       "<table border=\"1\" class=\"dataframe\">\n",
       "  <thead>\n",
       "    <tr style=\"text-align: right;\">\n",
       "      <th></th>\n",
       "      <th>k</th>\n",
       "      <th>annoy_mar</th>\n",
       "      <th>faiss_mar</th>\n",
       "    </tr>\n",
       "  </thead>\n",
       "  <tbody>\n",
       "    <tr>\n",
       "      <th>0</th>\n",
       "      <td>1</td>\n",
       "      <td>0.280000</td>\n",
       "      <td>0.740000</td>\n",
       "    </tr>\n",
       "    <tr>\n",
       "      <th>1</th>\n",
       "      <td>2</td>\n",
       "      <td>0.310000</td>\n",
       "      <td>0.745000</td>\n",
       "    </tr>\n",
       "    <tr>\n",
       "      <th>2</th>\n",
       "      <td>3</td>\n",
       "      <td>0.366667</td>\n",
       "      <td>0.746667</td>\n",
       "    </tr>\n",
       "    <tr>\n",
       "      <th>3</th>\n",
       "      <td>4</td>\n",
       "      <td>0.407500</td>\n",
       "      <td>0.737500</td>\n",
       "    </tr>\n",
       "    <tr>\n",
       "      <th>4</th>\n",
       "      <td>5</td>\n",
       "      <td>0.402000</td>\n",
       "      <td>0.744000</td>\n",
       "    </tr>\n",
       "    <tr>\n",
       "      <th>...</th>\n",
       "      <td>...</td>\n",
       "      <td>...</td>\n",
       "      <td>...</td>\n",
       "    </tr>\n",
       "    <tr>\n",
       "      <th>295</th>\n",
       "      <td>296</td>\n",
       "      <td>0.773378</td>\n",
       "      <td>0.674899</td>\n",
       "    </tr>\n",
       "    <tr>\n",
       "      <th>296</th>\n",
       "      <td>297</td>\n",
       "      <td>0.773603</td>\n",
       "      <td>0.674983</td>\n",
       "    </tr>\n",
       "    <tr>\n",
       "      <th>297</th>\n",
       "      <td>298</td>\n",
       "      <td>0.773691</td>\n",
       "      <td>0.674832</td>\n",
       "    </tr>\n",
       "    <tr>\n",
       "      <th>298</th>\n",
       "      <td>299</td>\n",
       "      <td>0.774013</td>\n",
       "      <td>0.674749</td>\n",
       "    </tr>\n",
       "    <tr>\n",
       "      <th>299</th>\n",
       "      <td>300</td>\n",
       "      <td>0.774500</td>\n",
       "      <td>0.674567</td>\n",
       "    </tr>\n",
       "  </tbody>\n",
       "</table>\n",
       "<p>300 rows × 3 columns</p>\n",
       "</div>"
      ],
      "text/plain": [
       "       k  annoy_mar  faiss_mar\n",
       "0      1   0.280000   0.740000\n",
       "1      2   0.310000   0.745000\n",
       "2      3   0.366667   0.746667\n",
       "3      4   0.407500   0.737500\n",
       "4      5   0.402000   0.744000\n",
       "..   ...        ...        ...\n",
       "295  296   0.773378   0.674899\n",
       "296  297   0.773603   0.674983\n",
       "297  298   0.773691   0.674832\n",
       "298  299   0.774013   0.674749\n",
       "299  300   0.774500   0.674567\n",
       "\n",
       "[300 rows x 3 columns]"
      ]
     },
     "execution_count": 129,
     "metadata": {},
     "output_type": "execute_result"
    }
   ],
   "source": [
    "results_summary_df"
   ]
  },
  {
   "cell_type": "code",
   "execution_count": 130,
   "metadata": {},
   "outputs": [
    {
     "data": {
      "text/plain": [
       "[{'k': 1, 'annoy_mar': 0.28, 'faiss_mar': 0.74},\n",
       " {'k': 2, 'annoy_mar': 0.31, 'faiss_mar': 0.745},\n",
       " {'k': 3, 'annoy_mar': 0.36666664, 'faiss_mar': 0.7466667}]"
      ]
     },
     "execution_count": 130,
     "metadata": {},
     "output_type": "execute_result"
    }
   ],
   "source": [
    "results_summary[:3]"
   ]
  },
  {
   "cell_type": "code",
   "execution_count": 131,
   "metadata": {},
   "outputs": [
    {
     "data": {
      "text/plain": [
       "[<matplotlib.lines.Line2D at 0x7f9810c68dc0>]"
      ]
     },
     "execution_count": 131,
     "metadata": {},
     "output_type": "execute_result"
    },
    {
     "data": {
      "image/png": "[encoded data removed]",
      "text/plain": [
       "<Figure size 720x432 with 1 Axes>"
      ]
     },
     "metadata": {},
     "output_type": "display_data"
    }
   ],
   "source": [
    "plt.plot(results_summary_df[\"k\"], results_summary_df[\"annoy_mar\"])\n",
    "plt.plot(results_summary_df[\"k\"], results_summary_df[\"faiss_mar\"])"
   ]
  },
  {
   "cell_type": "code",
   "execution_count": 134,
   "metadata": {},
   "outputs": [
    {
     "name": "stdout",
     "output_type": "stream",
     "text": [
      "[ 818827  139910  602482  969152  110152 1181867 1068763 1176247  957190\n",
      "  847581]\n",
      "[ 818827  139910  602482  969152  110152 1181867 1068763 1176247  957190\n",
      "  847581]\n"
     ]
    }
   ],
   "source": [
    "idx = np.random.choice(glove25_test_np_norm.shape[0], 1)[0]\n",
    "print(glove25[\"neighbors\"][idx, 0:10])\n",
    "# print(kd_tree.query(glove25_test_np_norm[idx:idx+1], k=10, return_distance=False)[0])"
   ]
  },
  {
   "cell_type": "code",
   "execution_count": 179,
   "metadata": {},
   "outputs": [
    {
     "name": "stdout",
     "output_type": "stream",
     "text": [
      "[ 656834  630490  666542  282065  850352 1109499  777257  940789  714248\n",
      "  693978]\n",
      "[282065, 850352, 1109499, 719995, 854232, 524252, 246420, 931804, 676274, 486301]\n"
     ]
    }
   ],
   "source": [
    "idx = np.random.choice(glove25_test_np_norm.shape[0], 1)[0]\n",
    "print(glove25[\"neighbors\"][idx, 0:10])\n",
    "print(annoy_index.get_nns_by_vector(glove25_test_np[idx], n=10))"
   ]
  },
  {
   "cell_type": "code",
   "execution_count": 175,
   "metadata": {},
   "outputs": [
    {
     "data": {
      "text/plain": [
       "array([[-0.19587114,  0.07153555, -0.00206277,  0.04484342, -0.09216353,\n",
       "        -0.17486468,  0.26796073, -0.15394048, -0.05431128, -0.03687583,\n",
       "        -0.01021141,  0.37789157,  0.37822068,  0.47693107,  0.00649037,\n",
       "         0.3479411 ,  0.13291755,  0.01093137,  0.26116428,  0.13078098,\n",
       "         0.18073682,  0.1423004 ,  0.12842499,  0.05581978, -0.07398205]],\n",
       "      dtype=float32)"
      ]
     },
     "execution_count": 175,
     "metadata": {},
     "output_type": "execute_result"
    }
   ],
   "source": [
    "glove25_test_np_norm[idx:idx+1]"
   ]
  },
  {
   "cell_type": "code",
   "execution_count": 43,
   "metadata": {},
   "outputs": [
    {
     "data": {
      "text/plain": [
       "array([      0,  978088,  872508,  343384,  358369, 1092200,  675886,\n",
       "        379223,  355593,  406832])"
      ]
     },
     "execution_count": 43,
     "metadata": {},
     "output_type": "execute_result"
    }
   ],
   "source": [
    "nn[0]"
   ]
  },
  {
   "cell_type": "code",
   "execution_count": 44,
   "metadata": {},
   "outputs": [
    {
     "data": {
      "text/plain": [
       "array([1086211, 1034304,  377924,   92191,  410858,  970642,  193105,\n",
       "       1063148,  235005,  914908], dtype=int32)"
      ]
     },
     "execution_count": 44,
     "metadata": {},
     "output_type": "execute_result"
    }
   ],
   "source": [
    "glove25[\"neighbors\"][0, 0:10]"
   ]
  },
  {
   "cell_type": "code",
   "execution_count": 35,
   "metadata": {},
   "outputs": [
    {
     "data": {
      "text/plain": [
       "array([1086211, 1034304,  377924,   92191,  410858,  970642,  193105,\n",
       "       1063148,  235005,  914908], dtype=int32)"
      ]
     },
     "execution_count": 35,
     "metadata": {},
     "output_type": "execute_result"
    }
   ],
   "source": [
    "glove25[\"neighbors\"][0, 0:10]"
   ]
  },
  {
   "cell_type": "code",
   "execution_count": null,
   "metadata": {},
   "outputs": [],
   "source": []
  },
  {
   "cell_type": "code",
   "execution_count": null,
   "metadata": {},
   "outputs": [],
   "source": []
  },
  {
   "cell_type": "code",
   "execution_count": null,
   "metadata": {},
   "outputs": [],
   "source": []
  },
  {
   "cell_type": "code",
   "execution_count": null,
   "metadata": {},
   "outputs": [],
   "source": []
  }
 ],
 "metadata": {
  "interpreter": {
   "hash": "5ea87dd13fa2d1df9f0005021c94037367d166e9f96d67a28c795547209712bf"
  },
  "kernelspec": {
   "display_name": "Python 3.9.1 ('ann')",
   "language": "python",
   "name": "python3"
  },
  "language_info": {
   "codemirror_mode": {
    "name": "ipython",
    "version": 3
   },
   "file_extension": ".py",
   "mimetype": "text/x-python",
   "name": "python",
   "nbconvert_exporter": "python",
   "pygments_lexer": "ipython3",
   "version": "3.9.1"
  },
  "orig_nbformat": 4
 },
 "nbformat": 4,
 "nbformat_minor": 2
}
