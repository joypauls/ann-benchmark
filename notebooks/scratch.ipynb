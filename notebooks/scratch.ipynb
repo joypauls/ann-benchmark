{
 "cells": [
  {
   "cell_type": "code",
   "execution_count": 57,
   "metadata": {},
   "outputs": [
    {
     "ename": "ModuleNotFoundError",
     "evalue": "No module named 'pandas'",
     "output_type": "error",
     "traceback": [
      "\u001b[0;31m---------------------------------------------------------------------------\u001b[0m",
      "\u001b[0;31mModuleNotFoundError\u001b[0m                       Traceback (most recent call last)",
      "\u001b[0;32m/var/folders/6f/2byb67sx33zbymqx86cct_2r0000gn/T/ipykernel_67543/3160048041.py\u001b[0m in \u001b[0;36m<module>\u001b[0;34m\u001b[0m\n\u001b[1;32m      1\u001b[0m \u001b[0;32mimport\u001b[0m \u001b[0mh5py\u001b[0m\u001b[0;34m\u001b[0m\u001b[0;34m\u001b[0m\u001b[0m\n\u001b[1;32m      2\u001b[0m \u001b[0;32mimport\u001b[0m \u001b[0mnumpy\u001b[0m \u001b[0;32mas\u001b[0m \u001b[0mnp\u001b[0m\u001b[0;34m\u001b[0m\u001b[0;34m\u001b[0m\u001b[0m\n\u001b[0;32m----> 3\u001b[0;31m \u001b[0;32mimport\u001b[0m \u001b[0mpandas\u001b[0m \u001b[0;32mas\u001b[0m \u001b[0mpd\u001b[0m\u001b[0;34m\u001b[0m\u001b[0;34m\u001b[0m\u001b[0m\n\u001b[0m\u001b[1;32m      4\u001b[0m \u001b[0;32mimport\u001b[0m \u001b[0mos\u001b[0m\u001b[0;34m\u001b[0m\u001b[0;34m\u001b[0m\u001b[0m\n\u001b[1;32m      5\u001b[0m \u001b[0;32mfrom\u001b[0m \u001b[0msklearn\u001b[0m\u001b[0;34m.\u001b[0m\u001b[0mmetrics\u001b[0m \u001b[0;32mimport\u001b[0m \u001b[0mrecall_score\u001b[0m\u001b[0;34m,\u001b[0m \u001b[0mprecision_score\u001b[0m\u001b[0;34m\u001b[0m\u001b[0;34m\u001b[0m\u001b[0m\n",
      "\u001b[0;31mModuleNotFoundError\u001b[0m: No module named 'pandas'"
     ]
    }
   ],
   "source": [
    "import h5py\n",
    "import numpy as np\n",
    "import pandas as pd\n",
    "import os\n",
    "from sklearn.metrics import recall_score, precision_score\n",
    "from sklearn.neighbors import KDTree, BallTree\n",
    "from sklearn.preprocessing import normalize\n",
    "from annoy import AnnoyIndex\n",
    "import faiss\n",
    "from tqdm import tqdm\n",
    "\n",
    "import matplotlib.pyplot as plt\n",
    "\n",
    "plt.rcParams[\"figure.figsize\"] = (10, 6)\n",
    "plt.rcParams[\"figure.facecolor\"] = \"white\""
   ]
  },
  {
   "cell_type": "code",
   "execution_count": 41,
   "metadata": {},
   "outputs": [
    {
     "data": {
      "text/plain": [
       "'/Users/joypauls/Documents/code/ann-benchmark/notebooks'"
      ]
     },
     "execution_count": 41,
     "metadata": {},
     "output_type": "execute_result"
    }
   ],
   "source": [
    "os.getcwd()"
   ]
  },
  {
   "cell_type": "markdown",
   "metadata": {},
   "source": [
    "## Data Preprocessing"
   ]
  },
  {
   "cell_type": "code",
   "execution_count": 3,
   "metadata": {},
   "outputs": [],
   "source": [
    "fp = \"../data/raw/glove-25-angular.hdf5\"\n",
    "\n",
    "glove25 = h5py.File(fp, \"r\")"
   ]
  },
  {
   "cell_type": "code",
   "execution_count": 4,
   "metadata": {},
   "outputs": [
    {
     "data": {
      "text/plain": [
       "['distances', 'neighbors', 'test', 'train']"
      ]
     },
     "execution_count": 4,
     "metadata": {},
     "output_type": "execute_result"
    }
   ],
   "source": [
    "# neighbors: indices of bruteforce nearest neighbors\n",
    "# distances: corresponding distance calculated\n",
    "\n",
    "list(glove25.keys())"
   ]
  },
  {
   "cell_type": "code",
   "execution_count": 5,
   "metadata": {},
   "outputs": [
    {
     "data": {
      "text/plain": [
       "array([1086211, 1034304,  377924,   92191,  410858,  970642,  193105,\n",
       "       1063148,  235005,  914908,  222081,  294110, 1176696,  636385,\n",
       "        732688,  863946,   60159,  497293,  268796,  564714,  499677,\n",
       "        776444, 1010809,  480893,  270436, 1023269, 1033137,  437103,\n",
       "        830688,  351115,  597512,  634096,   48696,  116432,  706535,\n",
       "        717757,  683717,   77239,  425518,  237785,  849292,  617513,\n",
       "        529704,  327532, 1077305,   41676,   93058,     988,  866384,\n",
       "         63671,  999504,  811696, 1113195,  470740,  573328,  646307,\n",
       "        698667, 1095797,  807458,  161261,  452663,   68957,  431767,\n",
       "       1087636,   25828,  120955,  142276,  690113,  459704,  737706,\n",
       "        222040,  748036,  938010, 1140328,  277557,  598329,  675024,\n",
       "       1181683,  769457,   90387,   85194,  478015,  983751,  198364,\n",
       "         55518,  785994,   63420,  126424,  955291, 1173235,  642462,\n",
       "        731220,  556767,   86643,  484210, 1038135,  686290,  542027,\n",
       "        544572,  598352], dtype=int32)"
      ]
     },
     "execution_count": 5,
     "metadata": {},
     "output_type": "execute_result"
    }
   ],
   "source": [
    "glove25[\"neighbors\"][0]"
   ]
  },
  {
   "cell_type": "code",
   "execution_count": 6,
   "metadata": {},
   "outputs": [
    {
     "data": {
      "text/plain": [
       "array([0.10799219, 0.11680873, 0.11747853, 0.11783477, 0.11966442,\n",
       "       0.1202258 , 0.12072266, 0.1208173 , 0.12084355, 0.12129584,\n",
       "       0.12241662, 0.12367911, 0.12471351, 0.1277512 , 0.1294026 ,\n",
       "       0.12994795, 0.13077305, 0.13086903, 0.13136333, 0.13145825,\n",
       "       0.1319056 , 0.13223521, 0.13266069, 0.13292934, 0.13334045,\n",
       "       0.13417614, 0.13435219, 0.1351901 , 0.13561499, 0.13582616,\n",
       "       0.13602158, 0.13625419, 0.13747413, 0.13748981, 0.13826703,\n",
       "       0.13848914, 0.13872376, 0.13888876, 0.13904503, 0.13915266,\n",
       "       0.1396758 , 0.14000261, 0.14002429, 0.14023435, 0.14085509,\n",
       "       0.14179355, 0.1419863 , 0.14239423, 0.14322713, 0.14331523,\n",
       "       0.14333475, 0.14352085, 0.1436379 , 0.14369258, 0.14512287,\n",
       "       0.14553578, 0.14615332, 0.14617091, 0.14660077, 0.14666978,\n",
       "       0.14705461, 0.14728722, 0.14764105, 0.14786063, 0.14804147,\n",
       "       0.14839801, 0.148441  , 0.14868486, 0.14885351, 0.14887327,\n",
       "       0.14893608, 0.14930446, 0.14948751, 0.15008324, 0.15027957,\n",
       "       0.15132204, 0.15151311, 0.15173967, 0.15181372, 0.15186381,\n",
       "       0.15205038, 0.15244101, 0.15258913, 0.15264162, 0.15277848,\n",
       "       0.1532781 , 0.15340917, 0.15341938, 0.15380916, 0.15420702,\n",
       "       0.1543931 , 0.1544427 , 0.15446694, 0.15462083, 0.1546633 ,\n",
       "       0.15492426, 0.15500186, 0.15511827, 0.1553804 , 0.15557039],\n",
       "      dtype=float32)"
      ]
     },
     "execution_count": 6,
     "metadata": {},
     "output_type": "execute_result"
    }
   ],
   "source": [
    "glove25[\"distances\"][0]"
   ]
  },
  {
   "cell_type": "code",
   "execution_count": 7,
   "metadata": {},
   "outputs": [
    {
     "data": {
      "text/plain": [
       "array([-0.28572 ,  1.603   , -0.23369 ,  0.42476 ,  0.071835, -1.6633  ,\n",
       "       -0.67747 , -0.20066 ,  0.72559 , -0.7226  ,  0.096683,  1.0443  ,\n",
       "        1.1964  , -0.27354 ,  1.4416  ,  0.065021,  0.93454 , -0.40575 ,\n",
       "        0.9227  , -0.29601 , -0.51803 ,  0.85121 , -1.0339  ,  0.050656,\n",
       "        0.13964 ], dtype=float32)"
      ]
     },
     "execution_count": 7,
     "metadata": {},
     "output_type": "execute_result"
    }
   ],
   "source": [
    "glove25[\"train\"][0]"
   ]
  },
  {
   "cell_type": "code",
   "execution_count": 8,
   "metadata": {},
   "outputs": [
    {
     "data": {
      "text/plain": [
       "10000"
      ]
     },
     "execution_count": 8,
     "metadata": {},
     "output_type": "execute_result"
    }
   ],
   "source": [
    "glove25[\"distances\"].len()"
   ]
  },
  {
   "cell_type": "code",
   "execution_count": 9,
   "metadata": {},
   "outputs": [
    {
     "data": {
      "text/plain": [
       "10000"
      ]
     },
     "execution_count": 9,
     "metadata": {},
     "output_type": "execute_result"
    }
   ],
   "source": [
    "glove25[\"neighbors\"].len()"
   ]
  },
  {
   "cell_type": "code",
   "execution_count": 10,
   "metadata": {},
   "outputs": [
    {
     "data": {
      "text/plain": [
       "1183514"
      ]
     },
     "execution_count": 10,
     "metadata": {},
     "output_type": "execute_result"
    }
   ],
   "source": [
    "glove25[\"train\"].len()"
   ]
  },
  {
   "cell_type": "code",
   "execution_count": 11,
   "metadata": {},
   "outputs": [
    {
     "data": {
      "text/plain": [
       "10000"
      ]
     },
     "execution_count": 11,
     "metadata": {},
     "output_type": "execute_result"
    }
   ],
   "source": [
    "glove25[\"test\"].len()"
   ]
  },
  {
   "cell_type": "code",
   "execution_count": 12,
   "metadata": {},
   "outputs": [
    {
     "data": {
      "text/plain": [
       "array([[-0.28572 ,  1.603   , -0.23369 ,  0.42476 ,  0.071835, -1.6633  ,\n",
       "        -0.67747 , -0.20066 ,  0.72559 , -0.7226  ,  0.096683,  1.0443  ,\n",
       "         1.1964  , -0.27354 ,  1.4416  ,  0.065021,  0.93454 , -0.40575 ,\n",
       "         0.9227  , -0.29601 , -0.51803 ,  0.85121 , -1.0339  ,  0.050656,\n",
       "         0.13964 ]], dtype=float32)"
      ]
     },
     "execution_count": 12,
     "metadata": {},
     "output_type": "execute_result"
    }
   ],
   "source": [
    "glove25[\"train\"][0:1]"
   ]
  },
  {
   "cell_type": "code",
   "execution_count": 13,
   "metadata": {},
   "outputs": [],
   "source": [
    "# argmax_a cossim(a, b) = argmax_a dot(a, b) / |a||b| = argmin_a -dot(a, b)  # noqa\n"
   ]
  },
  {
   "cell_type": "markdown",
   "metadata": {},
   "source": [
    "## Test Candidate Methods"
   ]
  },
  {
   "cell_type": "code",
   "execution_count": 14,
   "metadata": {},
   "outputs": [
    {
     "name": "stdout",
     "output_type": "stream",
     "text": [
      "(1183514, 25)\n",
      "(10000, 25)\n"
     ]
    }
   ],
   "source": [
    "EMBEDDING_DIM = len(glove25[\"train\"][0])\n",
    "NUM_TREES = 10  # for annoy\n",
    "\n",
    "\n",
    "\n",
    "glove25_train_np = np.zeros(glove25[\"train\"].shape, dtype=\"float32\")\n",
    "glove25[\"train\"].read_direct(glove25_train_np)\n",
    "\n",
    "glove25_test_np = np.zeros(glove25[\"test\"].shape, dtype=\"float32\")\n",
    "glove25[\"test\"].read_direct(glove25_test_np)\n",
    "\n",
    "print(glove25_train_np.shape)\n",
    "print(glove25_test_np.shape)\n",
    "\n",
    "# normalized datasetsfor methods?\n",
    "glove25_train_np_norm = normalize(glove25_train_np, axis=1, norm=\"l2\")\n",
    "glove25_test_np_norm = normalize(glove25_test_np, axis=1, norm=\"l2\")"
   ]
  },
  {
   "cell_type": "markdown",
   "metadata": {},
   "source": [
    "### Annoy"
   ]
  },
  {
   "cell_type": "code",
   "execution_count": 206,
   "metadata": {},
   "outputs": [
    {
     "name": "stdout",
     "output_type": "stream",
     "text": [
      "[0, 978088, 872508, 343384, 358369, 1092200, 675886, 379223, 355593, 406832]\n"
     ]
    }
   ],
   "source": [
    "# np.random.seed(1312)\n",
    "\n",
    "# angular distance turns cosine similarity into an actual distance metric\n",
    "\n",
    "# annoy uses euclidean distance of nromalized vectors under the hood for angular!!!!\n",
    "\n",
    "EMBEDDING_DIM = len(glove25[\"train\"][0])\n",
    "NUM_TREES = 20\n",
    "\n",
    "t = AnnoyIndex(EMBEDDING_DIM, \"angular\")\n",
    "for i, v in enumerate(glove25[\"train\"]):\n",
    "  t.add_item(i, v)\n",
    "\n",
    "t.build(NUM_TREES) # 10 trees\n",
    "t.save(\"../models/glove25.annoy\")\n",
    "\n",
    "# Now Load\n",
    "\n",
    "u = AnnoyIndex(EMBEDDING_DIM, \"angular\")\n",
    "u.load(\"../models/glove25.annoy\") # super fast, will just mmap the file\n",
    "print(u.get_nns_by_item(0, 10)) # will find the 10 nearest neighbors"
   ]
  },
  {
   "cell_type": "code",
   "execution_count": 207,
   "metadata": {},
   "outputs": [
    {
     "name": "stdout",
     "output_type": "stream",
     "text": [
      "[0, 978088, 872508, 343384, 358369, 1092200, 675886, 379223, 355593, 406832]\n",
      "[0, 978088, 872508, 343384, 358369, 1092200, 675886, 379223, 355593, 406832]\n"
     ]
    }
   ],
   "source": [
    "annoy_index = AnnoyIndex(EMBEDDING_DIM, \"angular\")\n",
    "annoy_index.load(\"../models/glove25.annoy\") # super fast, will just mmap the file\n",
    "\n",
    "print(annoy_index.get_nns_by_item(0, 10)) # will find the 10 nearest neighbors\n",
    "\n",
    "# returns list!!!\n",
    "print(annoy_index.get_nns_by_vector(glove25[\"train\"][0], 10))"
   ]
  },
  {
   "cell_type": "code",
   "execution_count": null,
   "metadata": {},
   "outputs": [],
   "source": []
  },
  {
   "cell_type": "markdown",
   "metadata": {},
   "source": [
    "### Faiss"
   ]
  },
  {
   "cell_type": "code",
   "execution_count": 208,
   "metadata": {},
   "outputs": [
    {
     "data": {
      "text/plain": [
       "array([[-0.28572 ,  1.603   , -0.23369 ,  0.42476 ,  0.071835, -1.6633  ,\n",
       "        -0.67747 , -0.20066 ,  0.72559 , -0.7226  ,  0.096683,  1.0443  ,\n",
       "         1.1964  , -0.27354 ,  1.4416  ,  0.065021,  0.93454 , -0.40575 ,\n",
       "         0.9227  , -0.29601 , -0.51803 ,  0.85121 , -1.0339  ,  0.050656,\n",
       "         0.13964 ],\n",
       "       [-2.3121  , -1.0691  ,  0.3303  , -0.84926 , -0.45098 , -1.1103  ,\n",
       "        -2.7918  , -0.34089 ,  1.4889  ,  0.060553, -1.1956  , -0.34866 ,\n",
       "         0.24117 ,  1.7703  , -1.2501  , -0.52119 ,  0.076553, -1.1669  ,\n",
       "         0.34683 ,  1.5578  ,  0.083097, -2.923   ,  1.978   , -0.34806 ,\n",
       "         0.82449 ],\n",
       "       [-0.6794  , -1.4217  ,  1.8045  ,  1.0094  , -1.1946  , -0.81375 ,\n",
       "         1.8712  , -1.7412  , -0.75792 ,  0.9747  , -0.62117 , -0.8313  ,\n",
       "         1.9836  ,  0.77844 ,  0.66287 ,  1.7849  ,  0.25166 ,  0.83952 ,\n",
       "         0.34842 ,  1.0675  ,  0.178   ,  0.56765 ,  1.0594  , -1.5747  ,\n",
       "         0.37254 ]], dtype=float32)"
      ]
     },
     "execution_count": 208,
     "metadata": {},
     "output_type": "execute_result"
    }
   ],
   "source": [
    "np.array(glove25[\"train\"][0:3])"
   ]
  },
  {
   "cell_type": "code",
   "execution_count": 209,
   "metadata": {},
   "outputs": [
    {
     "data": {
      "text/plain": [
       "array([[-0.28572 ,  1.603   , -0.23369 ,  0.42476 ,  0.071835, -1.6633  ,\n",
       "        -0.67747 , -0.20066 ,  0.72559 , -0.7226  ,  0.096683,  1.0443  ,\n",
       "         1.1964  , -0.27354 ,  1.4416  ,  0.065021,  0.93454 , -0.40575 ,\n",
       "         0.9227  , -0.29601 , -0.51803 ,  0.85121 , -1.0339  ,  0.050656,\n",
       "         0.13964 ],\n",
       "       [-2.3121  , -1.0691  ,  0.3303  , -0.84926 , -0.45098 , -1.1103  ,\n",
       "        -2.7918  , -0.34089 ,  1.4889  ,  0.060553, -1.1956  , -0.34866 ,\n",
       "         0.24117 ,  1.7703  , -1.2501  , -0.52119 ,  0.076553, -1.1669  ,\n",
       "         0.34683 ,  1.5578  ,  0.083097, -2.923   ,  1.978   , -0.34806 ,\n",
       "         0.82449 ],\n",
       "       [-0.6794  , -1.4217  ,  1.8045  ,  1.0094  , -1.1946  , -0.81375 ,\n",
       "         1.8712  , -1.7412  , -0.75792 ,  0.9747  , -0.62117 , -0.8313  ,\n",
       "         1.9836  ,  0.77844 ,  0.66287 ,  1.7849  ,  0.25166 ,  0.83952 ,\n",
       "         0.34842 ,  1.0675  ,  0.178   ,  0.56765 ,  1.0594  , -1.5747  ,\n",
       "         0.37254 ]], dtype=float32)"
      ]
     },
     "execution_count": 209,
     "metadata": {},
     "output_type": "execute_result"
    }
   ],
   "source": [
    "glove25[\"train\"][0:3]"
   ]
  },
  {
   "cell_type": "code",
   "execution_count": 210,
   "metadata": {},
   "outputs": [
    {
     "name": "stdout",
     "output_type": "stream",
     "text": [
      "(1183514, 25)\n",
      "(10000, 25)\n"
     ]
    }
   ],
   "source": [
    "glove25_train_np = np.zeros(glove25[\"train\"].shape, dtype=\"float32\")\n",
    "glove25[\"train\"].read_direct(glove25_train_np)\n",
    "\n",
    "glove25_test_np = np.zeros(glove25[\"test\"].shape, dtype=\"float32\")\n",
    "glove25[\"test\"].read_direct(glove25_test_np)\n",
    "\n",
    "print(glove25_train_np.shape)\n",
    "print(glove25_test_np.shape)"
   ]
  },
  {
   "cell_type": "code",
   "execution_count": 211,
   "metadata": {},
   "outputs": [
    {
     "data": {
      "text/plain": [
       "(1, 25)"
      ]
     },
     "execution_count": 211,
     "metadata": {},
     "output_type": "execute_result"
    }
   ],
   "source": [
    "glove25_train_np[0:1].shape"
   ]
  },
  {
   "cell_type": "code",
   "execution_count": 212,
   "metadata": {},
   "outputs": [
    {
     "name": "stdout",
     "output_type": "stream",
     "text": [
      "True\n",
      "1183514\n"
     ]
    }
   ],
   "source": [
    "# EXHAUSTIVE SEARCH\n",
    "# https://github.com/facebookresearch/faiss/wiki/MetricType-and-distances\n",
    "faiss_index = faiss.IndexFlatL2(EMBEDDING_DIM)   # build the index\n",
    "print(faiss_index.is_trained)\n",
    "faiss_index.add(glove25_train_np)                  # add vectors to the index\n",
    "print(faiss_index.ntotal)"
   ]
  },
  {
   "cell_type": "code",
   "execution_count": 213,
   "metadata": {},
   "outputs": [
    {
     "data": {
      "text/plain": [
       "(array([[0.        , 0.6585696 , 0.8399931 , 0.85693866, 0.8705276 ,\n",
       "         0.8769383 , 0.9752222 , 0.976394  , 0.99444646, 0.99625134]],\n",
       "       dtype=float32),\n",
       " array([[      0,  978088,  872508,  343384, 1092200,  358369,  355593,\n",
       "          675886,  406832,  762373]]))"
      ]
     },
     "execution_count": 213,
     "metadata": {},
     "output_type": "execute_result"
    }
   ],
   "source": [
    "# predict\n",
    "distances, neighbors = faiss_index.search(glove25_train_np[0:1], 10)\n",
    "(distances, neighbors)"
   ]
  },
  {
   "cell_type": "code",
   "execution_count": 214,
   "metadata": {},
   "outputs": [
    {
     "name": "stdout",
     "output_type": "stream",
     "text": [
      "False\n",
      "0\n",
      "True\n",
      "0\n",
      "True\n",
      "1183514\n"
     ]
    }
   ],
   "source": [
    "# angular distance\n",
    "n_list = 20  # how many cells\n",
    "quantizer = faiss.IndexFlatL2(EMBEDDING_DIM)\n",
    "faiss_index = faiss.IndexIVFFlat(quantizer, EMBEDDING_DIM, n_list, faiss.METRIC_L2)\n",
    "\n",
    "print(faiss_index.is_trained)\n",
    "print(faiss_index.ntotal)\n",
    "\n",
    "faiss_index.train(glove25_train_np_norm)\n",
    "print(faiss_index.is_trained)\n",
    "print(faiss_index.ntotal)\n",
    "faiss_index.add(glove25_train_np_norm)\n",
    "print(faiss_index.is_trained)\n",
    "print(faiss_index.ntotal)"
   ]
  },
  {
   "cell_type": "code",
   "execution_count": 215,
   "metadata": {},
   "outputs": [
    {
     "data": {
      "text/plain": [
       "(array([[9.133119 , 9.167982 , 9.183929 , 9.185324 , 9.185784 , 9.1865015,\n",
       "         9.193968 , 9.205625 , 9.212913 , 9.2160635]], dtype=float32),\n",
       " array([[ 978088,  872508,  343384,  358369, 1092200,  675886,  379223,\n",
       "          355593,  406832,  870548]]))"
      ]
     },
     "execution_count": 215,
     "metadata": {},
     "output_type": "execute_result"
    }
   ],
   "source": [
    "# predict\n",
    "distances, neighbors = faiss_index.search(glove25_train_np[0:1], 10)\n",
    "(distances, neighbors)"
   ]
  },
  {
   "cell_type": "code",
   "execution_count": 216,
   "metadata": {},
   "outputs": [
    {
     "data": {
      "text/plain": [
       "(array([[ 9.133119 ,  9.167982 ,  9.183929 ,  9.185324 ,  9.185784 ,\n",
       "          9.1865015,  9.193968 ,  9.205625 ,  9.212913 ,  9.2160635],\n",
       "        [33.769363 , 34.102848 , 34.110245 , 34.18454  , 34.33471  ,\n",
       "         34.54875  , 34.57728  , 34.651283 , 34.658375 , 34.735546 ],\n",
       "        [23.95903  , 24.15606  , 24.423706 , 24.44447  , 24.468061 ,\n",
       "         24.477802 , 24.486761 , 24.492498 , 24.599148 , 24.608084 ],\n",
       "        [26.433937 , 28.3045   , 28.359367 , 28.369581 , 28.60218  ,\n",
       "         28.704319 , 28.779465 , 28.79194  , 28.816841 , 28.864971 ],\n",
       "        [11.790197 , 12.815996 , 12.941013 , 13.080925 , 13.139196 ,\n",
       "         13.143217 , 13.157397 , 13.169992 , 13.179855 , 13.181332 ],\n",
       "        [10.136249 , 10.6135845, 10.691089 , 10.814522 , 10.8348   ,\n",
       "         10.855013 , 10.906075 , 10.907627 , 10.911652 , 10.943611 ],\n",
       "        [10.792688 , 11.415736 , 11.418269 , 11.526991 , 11.584129 ,\n",
       "         11.629994 , 11.655474 , 11.673021 , 11.690297 , 11.691347 ],\n",
       "        [28.464218 , 28.7611   , 29.093342 , 29.136488 , 29.137856 ,\n",
       "         29.138876 , 29.153101 , 29.174885 , 29.22451  , 29.306904 ],\n",
       "        [ 5.64678  ,  6.5648203,  6.655355 ,  6.6669035,  6.6751986,\n",
       "          6.7062   ,  6.7178087,  6.7395263,  6.7398252,  6.7956758],\n",
       "        [15.163356 , 16.864006 , 16.943645 , 17.124743 , 17.1284   ,\n",
       "         17.13388  , 17.14019  , 17.30101  , 17.315887 , 17.34228  ]],\n",
       "       dtype=float32),\n",
       " array([[ 978088,  872508,  343384,  358369, 1092200,  675886,  379223,\n",
       "          355593,  406832,  870548],\n",
       "        [ 201123,  775981,  650666, 1058965,  881677,  831254,  913301,\n",
       "          849178,  718792,  211716],\n",
       "        [ 848047,  732392,  417366,  931919,   79526,  521344,  341349,\n",
       "          688621,  731935,  285884],\n",
       "        [      3,  942420,  623856,  412102,  451892, 1155561,  339615,\n",
       "          783254,  341940, 1090187],\n",
       "        [      4,  568673,  433870,    3541,  729161,  998099, 1104539,\n",
       "          751810,  387903,  981783],\n",
       "        [      5,  663934, 1041006,  551004,  477269,  504929,  814980,\n",
       "          496761, 1047845,   44959],\n",
       "        [      6,  479894,  814486,  645047,   99144,  571381,   85924,\n",
       "          714871,    1945,  258007],\n",
       "        [1039269,  394996,  216021,  996007,  314059,  614321,  685254,\n",
       "         1010354,  740254, 1024883],\n",
       "        [      8, 1081470,  550870,  468493,  873901,  468067, 1097977,\n",
       "          405869,   37714,  365361],\n",
       "        [      9,  243529,  203165,  126037, 1004802,  287425,  500216,\n",
       "          890255,  504204, 1152267]]))"
      ]
     },
     "execution_count": 216,
     "metadata": {},
     "output_type": "execute_result"
    }
   ],
   "source": [
    "distances, neighbors = faiss_index.search(glove25_train_np[0:10], 10)\n",
    "(distances, neighbors)"
   ]
  },
  {
   "cell_type": "markdown",
   "metadata": {},
   "source": [
    "## Evaluate"
   ]
  },
  {
   "cell_type": "code",
   "execution_count": 217,
   "metadata": {},
   "outputs": [
    {
     "data": {
      "text/plain": [
       "0.76"
      ]
     },
     "execution_count": 217,
     "metadata": {},
     "output_type": "execute_result"
    }
   ],
   "source": [
    "def average_recall(ground_truth, estimated, k=5):\n",
    "    \"\"\"Fetches rows from a Smalltable.\n",
    "\n",
    "    Retrieves rows pertaining to the given keys from the Table instance\n",
    "    represented by table_handle.  String keys will be UTF-8 encoded.\n",
    "\n",
    "    Args:\n",
    "        ground_truth: An open smalltable.Table instance.\n",
    "        estimated: A sequence of strings representing the key of each table\n",
    "          row to fetch.  String keys will be UTF-8 encoded.\n",
    "        k: If True only rows with values set for all keys will be\n",
    "          returned.\n",
    "\n",
    "    Returns:\n",
    "        A score\n",
    "    \"\"\"\n",
    "    if len(estimated) > k:\n",
    "        estimated = estimated[:k]\n",
    "\n",
    "    if ground_truth is None:\n",
    "        return 0.0\n",
    "\n",
    "    score = 0.0\n",
    "    num_hits = 0.0  # keep as float to avoid type issue in division\n",
    "    for i, p in enumerate(estimated):\n",
    "        if p in ground_truth and p not in estimated[:i]:\n",
    "            num_hits += 1.0\n",
    "            score += num_hits / (i + 1.0)\n",
    "\n",
    "    return score / min(len(ground_truth), k)\n",
    "\n",
    "average_recall([1, 2, 3, 4, 5], [5, 4, 3, 0, 1])"
   ]
  },
  {
   "cell_type": "code",
   "execution_count": 218,
   "metadata": {},
   "outputs": [
    {
     "name": "stdout",
     "output_type": "stream",
     "text": [
      "CPU times: user 8.25 s, sys: 357 ms, total: 8.61 s\n",
      "Wall time: 7.92 s\n"
     ]
    }
   ],
   "source": [
    "%%time\n",
    "\n",
    "# single depth loop\n",
    "k = 100\n",
    "\n",
    "# annoy can't batch\n",
    "# annoy\n",
    "annoy_recall = np.zeros((glove25_test_np.shape[0],), dtype=np.float32)\n",
    "for i, x in enumerate(glove25_test_np):\n",
    "  truth = glove25[\"neighbors\"][i, 0:k]\n",
    "  estimated = annoy_index.get_nns_by_vector(x, k)\n",
    "  annoy_recall[i] = average_recall(truth, estimated, k)"
   ]
  },
  {
   "cell_type": "code",
   "execution_count": 219,
   "metadata": {},
   "outputs": [
    {
     "name": "stdout",
     "output_type": "stream",
     "text": [
      "CPU times: user 14.8 s, sys: 317 ms, total: 15.1 s\n",
      "Wall time: 7.76 s\n"
     ]
    }
   ],
   "source": [
    "%%time\n",
    "# faiss can batch!\n",
    "# must use normalized\n",
    "_, faiss_estimated = faiss_index.search(glove25_test_np_norm, k)\n",
    "# faiss\n",
    "faiss_recall = np.zeros((glove25_test_np.shape[0],), dtype=np.float32)\n",
    "for i, x in enumerate(faiss_estimated):\n",
    "  truth = glove25[\"neighbors\"][i, 0:k]\n",
    "  faiss_recall[i] = average_recall(truth, x, k)"
   ]
  },
  {
   "cell_type": "code",
   "execution_count": 220,
   "metadata": {},
   "outputs": [
    {
     "data": {
      "text/plain": [
       "array([0.65, 0.6 , 0.78, ..., 0.8 , 0.46, 0.85], dtype=float32)"
      ]
     },
     "execution_count": 220,
     "metadata": {},
     "output_type": "execute_result"
    }
   ],
   "source": [
    "annoy_recall"
   ]
  },
  {
   "cell_type": "code",
   "execution_count": 221,
   "metadata": {},
   "outputs": [
    {
     "data": {
      "text/plain": [
       "array([0.97, 0.12, 1.  , ..., 1.  , 0.42, 0.88], dtype=float32)"
      ]
     },
     "execution_count": 221,
     "metadata": {},
     "output_type": "execute_result"
    }
   ],
   "source": [
    "faiss_recall"
   ]
  },
  {
   "cell_type": "code",
   "execution_count": 222,
   "metadata": {},
   "outputs": [
    {
     "data": {
      "image/png": "[encoded data removed]",
      "text/plain": [
       "<Figure size 720x432 with 1 Axes>"
      ]
     },
     "metadata": {},
     "output_type": "display_data"
    }
   ],
   "source": [
    "annoy_mean = np.mean(annoy_recall)\n",
    "annoy_plot_weights = np.ones(len(annoy_recall)) / len(annoy_recall)\n",
    "faiss_mean = np.mean(faiss_recall)\n",
    "faiss_plot_weights = np.ones(len(faiss_recall)) / len(faiss_recall)\n",
    "\n",
    "\n",
    "n1, _, _ = plt.hist(annoy_recall, weights=annoy_plot_weights, bins=20, alpha=0.6, label=\"Annoy\")\n",
    "plt.axvline(annoy_mean, color=\"#4c72b0\", alpha=0.6, ls=\"--\", label=\"Annoy MAR@100\")\n",
    "\n",
    "n2, _, _ = plt.hist(faiss_recall, weights=faiss_plot_weights, bins=20, alpha=0.6, label=\"Faiss\")\n",
    "plt.axvline(faiss_mean, color=\"#cc642a\", alpha=0.6, ls=\"--\", label=\"Faiss MAR@100\")\n",
    "\n",
    "plot_height = max(np.max(n1), np.max(n2))  # in y-axis units\n",
    "plt.text(annoy_mean + 0.01, plot_height*0.8, \"MAR = {:.2f}\".format(annoy_mean), rotation=90, verticalalignment=\"center\")\n",
    "plt.text(faiss_mean + 0.01, plot_height*0.8, \"MAR = {:.2f}\".format(faiss_mean), rotation=90, verticalalignment=\"center\")\n",
    "\n",
    "plt.legend()\n",
    "plt.title(\"Distribution of Recall@100 for All Test Queries\")\n",
    "plt.xlabel(\"Average Recall @ 100\")\n",
    "plt.ylabel(\"Percent\")\n",
    "\n",
    "plt.savefig(\"output.png\")\n",
    "plt.show()"
   ]
  },
  {
   "cell_type": "code",
   "execution_count": 38,
   "metadata": {},
   "outputs": [
    {
     "name": "stderr",
     "output_type": "stream",
     "text": [
      "100%|██████████| 200/200 [19:03<00:00,  5.72s/it]\n"
     ]
    }
   ],
   "source": [
    "# stepping through depths\n",
    "annoy_mar = []\n",
    "depth = []\n",
    "k = 200\n",
    "\n",
    "for d in tqdm(range(1, k+1)):\n",
    "  annoy_recall = []\n",
    "  for i, x in enumerate(glove25_test_np):\n",
    "    truth = glove25[\"neighbors\"][i, 0:d]\n",
    "    estimated = annoy_index.get_nns_by_vector(x, n=d)\n",
    "    annoy_recall.append(average_recall(truth, estimated, k=d))\n",
    "  annoy_mar.append(np.mean(annoy_recall))\n",
    "  depth.append(d)"
   ]
  },
  {
   "cell_type": "code",
   "execution_count": 39,
   "metadata": {},
   "outputs": [
    {
     "data": {
      "text/plain": [
       "[<matplotlib.lines.Line2D at 0x7fc278efb910>]"
      ]
     },
     "execution_count": 39,
     "metadata": {},
     "output_type": "execute_result"
    },
    {
     "data": {
      "image/png": "[encoded data removed]",
      "text/plain": [
       "<Figure size 432x288 with 1 Axes>"
      ]
     },
     "metadata": {
      "needs_background": "light"
     },
     "output_type": "display_data"
    }
   ],
   "source": [
    "plt.plot(depth, annoy_mar)"
   ]
  },
  {
   "cell_type": "code",
   "execution_count": 134,
   "metadata": {},
   "outputs": [
    {
     "name": "stdout",
     "output_type": "stream",
     "text": [
      "[ 818827  139910  602482  969152  110152 1181867 1068763 1176247  957190\n",
      "  847581]\n",
      "[ 818827  139910  602482  969152  110152 1181867 1068763 1176247  957190\n",
      "  847581]\n"
     ]
    }
   ],
   "source": [
    "idx = np.random.choice(glove25_test_np_norm.shape[0], 1)[0]\n",
    "print(glove25[\"neighbors\"][idx, 0:10])\n",
    "# print(kd_tree.query(glove25_test_np_norm[idx:idx+1], k=10, return_distance=False)[0])"
   ]
  },
  {
   "cell_type": "code",
   "execution_count": 179,
   "metadata": {},
   "outputs": [
    {
     "name": "stdout",
     "output_type": "stream",
     "text": [
      "[ 656834  630490  666542  282065  850352 1109499  777257  940789  714248\n",
      "  693978]\n",
      "[282065, 850352, 1109499, 719995, 854232, 524252, 246420, 931804, 676274, 486301]\n"
     ]
    }
   ],
   "source": [
    "idx = np.random.choice(glove25_test_np_norm.shape[0], 1)[0]\n",
    "print(glove25[\"neighbors\"][idx, 0:10])\n",
    "print(annoy_index.get_nns_by_vector(glove25_test_np[idx], n=10))"
   ]
  },
  {
   "cell_type": "code",
   "execution_count": 175,
   "metadata": {},
   "outputs": [
    {
     "data": {
      "text/plain": [
       "array([[-0.19587114,  0.07153555, -0.00206277,  0.04484342, -0.09216353,\n",
       "        -0.17486468,  0.26796073, -0.15394048, -0.05431128, -0.03687583,\n",
       "        -0.01021141,  0.37789157,  0.37822068,  0.47693107,  0.00649037,\n",
       "         0.3479411 ,  0.13291755,  0.01093137,  0.26116428,  0.13078098,\n",
       "         0.18073682,  0.1423004 ,  0.12842499,  0.05581978, -0.07398205]],\n",
       "      dtype=float32)"
      ]
     },
     "execution_count": 175,
     "metadata": {},
     "output_type": "execute_result"
    }
   ],
   "source": [
    "glove25_test_np_norm[idx:idx+1]"
   ]
  },
  {
   "cell_type": "code",
   "execution_count": 43,
   "metadata": {},
   "outputs": [
    {
     "data": {
      "text/plain": [
       "array([      0,  978088,  872508,  343384,  358369, 1092200,  675886,\n",
       "        379223,  355593,  406832])"
      ]
     },
     "execution_count": 43,
     "metadata": {},
     "output_type": "execute_result"
    }
   ],
   "source": [
    "nn[0]"
   ]
  },
  {
   "cell_type": "code",
   "execution_count": 44,
   "metadata": {},
   "outputs": [
    {
     "data": {
      "text/plain": [
       "array([1086211, 1034304,  377924,   92191,  410858,  970642,  193105,\n",
       "       1063148,  235005,  914908], dtype=int32)"
      ]
     },
     "execution_count": 44,
     "metadata": {},
     "output_type": "execute_result"
    }
   ],
   "source": [
    "glove25[\"neighbors\"][0, 0:10]"
   ]
  },
  {
   "cell_type": "code",
   "execution_count": 35,
   "metadata": {},
   "outputs": [
    {
     "data": {
      "text/plain": [
       "array([1086211, 1034304,  377924,   92191,  410858,  970642,  193105,\n",
       "       1063148,  235005,  914908], dtype=int32)"
      ]
     },
     "execution_count": 35,
     "metadata": {},
     "output_type": "execute_result"
    }
   ],
   "source": [
    "glove25[\"neighbors\"][0, 0:10]"
   ]
  },
  {
   "cell_type": "code",
   "execution_count": null,
   "metadata": {},
   "outputs": [],
   "source": []
  },
  {
   "cell_type": "code",
   "execution_count": null,
   "metadata": {},
   "outputs": [],
   "source": []
  },
  {
   "cell_type": "code",
   "execution_count": null,
   "metadata": {},
   "outputs": [],
   "source": []
  },
  {
   "cell_type": "code",
   "execution_count": null,
   "metadata": {},
   "outputs": [],
   "source": []
  }
 ],
 "metadata": {
  "interpreter": {
   "hash": "5ea87dd13fa2d1df9f0005021c94037367d166e9f96d67a28c795547209712bf"
  },
  "kernelspec": {
   "display_name": "Python 3.9.1 ('ann')",
   "language": "python",
   "name": "python3"
  },
  "language_info": {
   "codemirror_mode": {
    "name": "ipython",
    "version": 3
   },
   "file_extension": ".py",
   "mimetype": "text/x-python",
   "name": "python",
   "nbconvert_exporter": "python",
   "pygments_lexer": "ipython3",
   "version": "3.9.1"
  },
  "orig_nbformat": 4
 },
 "nbformat": 4,
 "nbformat_minor": 2
}
